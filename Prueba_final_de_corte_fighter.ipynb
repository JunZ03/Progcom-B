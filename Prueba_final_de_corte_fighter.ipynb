{
  "nbformat": 4,
  "nbformat_minor": 0,
  "metadata": {
    "colab": {
      "provenance": [],
      "collapsed_sections": []
    },
    "kernelspec": {
      "name": "python3",
      "display_name": "Python 3"
    },
    "language_info": {
      "name": "python"
    }
  },
  "cells": [
    {
      "cell_type": "markdown",
      "source": [
        "#Figther dos"
      ],
      "metadata": {
        "id": "KoVD3--BScq2"
      }
    },
    {
      "cell_type": "code",
      "execution_count": 11,
      "metadata": {
        "colab": {
          "base_uri": "https://localhost:8080/",
          "height": 321
        },
        "id": "b052n5O9SZkm",
        "outputId": "e0794944-6b60-49b5-de65-8d1f81c6e3b4"
      },
      "outputs": [
        {
          "name": "stdout",
          "output_type": "stream",
          "text": [
            "Ingrese la cantidad de estudintes en el salón: 3\n",
            "Ingrese la nota del estudiante: 4\n",
            "Ingrese la nota del estudiante: 4\n",
            "Ingrese la nota del estudiante: 4\n",
            "Ingrese la nota del estudiante: 4\n"
          ]
        },
        {
          "output_type": "error",
          "ename": "ZeroDivisionError",
          "evalue": "ignored",
          "traceback": [
            "\u001b[0;31m---------------------------------------------------------------------------\u001b[0m",
            "\u001b[0;31mZeroDivisionError\u001b[0m                         Traceback (most recent call last)",
            "\u001b[0;32m<ipython-input-11-3f6cd9ba4651>\u001b[0m in \u001b[0;36m<module>\u001b[0;34m\u001b[0m\n\u001b[1;32m      8\u001b[0m   \u001b[0mnota3\u001b[0m\u001b[0;34m=\u001b[0m\u001b[0mint\u001b[0m\u001b[0;34m(\u001b[0m\u001b[0minput\u001b[0m\u001b[0;34m(\u001b[0m\u001b[0;34m\"Ingrese la nota del estudiante: \"\u001b[0m\u001b[0;34m)\u001b[0m\u001b[0;34m)\u001b[0m\u001b[0;34m\u001b[0m\u001b[0;34m\u001b[0m\u001b[0m\n\u001b[1;32m      9\u001b[0m   \u001b[0mnota4\u001b[0m\u001b[0;34m=\u001b[0m\u001b[0mint\u001b[0m\u001b[0;34m(\u001b[0m\u001b[0minput\u001b[0m\u001b[0;34m(\u001b[0m\u001b[0;34m\"Ingrese la nota del estudiante: \"\u001b[0m\u001b[0;34m)\u001b[0m\u001b[0;34m)\u001b[0m\u001b[0;34m\u001b[0m\u001b[0;34m\u001b[0m\u001b[0m\n\u001b[0;32m---> 10\u001b[0;31m   \u001b[0mnotaf\u001b[0m\u001b[0;34m=\u001b[0m\u001b[0;34m(\u001b[0m\u001b[0;34m(\u001b[0m\u001b[0mnota1\u001b[0m\u001b[0;34m+\u001b[0m\u001b[0mnota2\u001b[0m\u001b[0;34m+\u001b[0m\u001b[0mnota3\u001b[0m\u001b[0;34m+\u001b[0m\u001b[0mnota4\u001b[0m\u001b[0;34m)\u001b[0m\u001b[0;34m/\u001b[0m\u001b[0mlen\u001b[0m\u001b[0;34m(\u001b[0m\u001b[0mclase1\u001b[0m\u001b[0;34m)\u001b[0m\u001b[0;34m)\u001b[0m\u001b[0;34m\u001b[0m\u001b[0;34m\u001b[0m\u001b[0m\n\u001b[0m\u001b[1;32m     11\u001b[0m   \u001b[0mclase1\u001b[0m\u001b[0;34m[\u001b[0m\u001b[0miS\u001b[0m\u001b[0;34m]\u001b[0m \u001b[0;34m=\u001b[0m \u001b[0;34m[\u001b[0m\u001b[0mnota1\u001b[0m\u001b[0;34m,\u001b[0m\u001b[0mnota2\u001b[0m\u001b[0;34m,\u001b[0m\u001b[0mnota3\u001b[0m\u001b[0;34m,\u001b[0m\u001b[0mnota4\u001b[0m\u001b[0;34m,\u001b[0m\u001b[0mnotaf\u001b[0m\u001b[0;34m]\u001b[0m\u001b[0;34m\u001b[0m\u001b[0;34m\u001b[0m\u001b[0m\n\u001b[1;32m     12\u001b[0m \u001b[0;34m\u001b[0m\u001b[0m\n",
            "\u001b[0;31mZeroDivisionError\u001b[0m: division by zero"
          ]
        }
      ],
      "source": [
        "clase1 = { }\n",
        "notaf=0\n",
        "i=int(input(\"Ingrese la cantidad de estudintes en el salón: \"))\n",
        "for a in range (0, i):\n",
        "  iS=str(a+1)\n",
        "  nota1=int(input(\"Ingrese la nota del estudiante: \"))\n",
        "  nota2=int(input(\"Ingrese la nota del estudiante: \"))\n",
        "  nota3=int(input(\"Ingrese la nota del estudiante: \"))\n",
        "  nota4=int(input(\"Ingrese la nota del estudiante: \"))\n",
        "  notaf=((nota1+nota2+nota3+nota4)/4)\n",
        "  clase1[iS] = [nota1,nota2,nota3,nota4,notaf]\n",
        "  \n",
        "\n",
        "clase2 = { }\n",
        "notaf=0\n",
        "i=int(input(\"Ingrese la cantidad de estudintes en el salón: \"))\n",
        "for a in range (0, i):\n",
        "  iS=str(a+1)\n",
        "  nota1=int(input(\"Ingrese la nota del estudiante: \"))\n",
        "  nota2=int(input(\"Ingrese la nota del estudiante: \"))\n",
        "  nota3=int(input(\"Ingrese la nota del estudiante: \"))\n",
        "  nota4=int(input(\"Ingrese la nota del estudiante: \"))\n",
        "  notaf2=((nota1+nota2+nota3+nota4)/4)\n",
        "  clase2[iS] = [nota1,nota2,nota3,nota4,notaf2]\n",
        "  \n",
        "\n",
        "clase3 = { }\n",
        "notaf=0\n",
        "i=int(input(\"Ingrese la cantidad de estudintes en el salón: \"))\n",
        "for a in range (0, i):\n",
        "  iS=str(a+1)\n",
        "  nota1=int(input(\"Ingrese la nota del estudiante: \"))\n",
        "  nota2=int(input(\"Ingrese la nota del estudiante: \"))\n",
        "  nota3=int(input(\"Ingrese la nota del estudiante: \"))\n",
        "  nota4=int(input(\"Ingrese la nota del estudiante: \"))\n",
        "  notaf3=((nota1+nota2+nota3+nota4)/4)\n",
        "  clase3[iS] = [nota1,nota2,nota3,nota4,notaf3]\n",
        "  \n",
        "print(clase1,notaf)\n",
        "print(clase2,notaf2)\n",
        "print(clase3,notaf3)"
      ]
    },
    {
      "cell_type": "code",
      "source": [
        "clase1 = { }\n",
        "notaf=0\n",
        "i=int(input(\"Ingrese la cantidad de estudintes en el salón: \"))\n",
        "for a in range (0, i):\n",
        "  iS=str(a+1)\n",
        "  n1=int(input(\"Ingrese la nota del estudiante: \"))\n",
        "  n2=int(input(\"Ingrese la nota del estudiante: \"))\n",
        "  n3=int(input(\"Ingrese la nota del estudiante: \"))\n",
        "  n4=int(input(\"Ingrese la nota del estudiante: \"))\n",
        "  notaf=((n1+n2+n3+n4)/4)\n",
        "  clase1[iS] = [n1,n2,n3,n4,\"La nota final es: \",notaf]\n",
        "print(clase1)"
      ],
      "metadata": {
        "id": "HPGzl5v8VZ-W"
      },
      "execution_count": null,
      "outputs": []
    }
  ]
}