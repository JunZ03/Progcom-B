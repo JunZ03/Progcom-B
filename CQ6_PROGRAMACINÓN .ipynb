{
  "cells": [
    {
      "cell_type": "markdown",
      "metadata": {
        "id": "akHsoAj9MNo-"
      },
      "source": [
        "##False: Los elementos nulos o vacíos se consideran False, también devuelve el valor booleano true para indicar que su operando es definitivamente false."
      ]
    },
    {
      "cell_type": "code",
      "execution_count": 5,
      "metadata": {
        "colab": {
          "base_uri": "https://localhost:8080/"
        },
        "id": "9JIXkxVNMAEX",
        "outputId": "548ab38c-cb40-4c2d-969d-055c74f9b0c0"
      },
      "outputs": [
        {
          "output_type": "stream",
          "name": "stdout",
          "text": [
            "Si este texto se imprime significa que la condicion inicial es falsa\n",
            "Este texto es solo una impresión de control, siempre se va a imprimir sin importar lo de arriba\n"
          ]
        }
      ],
      "source": [
        "fino=False\n",
        "if fino:\n",
        "  print(\"La condición inicial indica un True\")\n",
        "else:\n",
        "  print(\"Si este texto se imprime significa que la condicion inicial es falsa\")\n",
        "\n",
        "print(\"Este texto es solo una impresión de control, siempre se va a imprimir sin importar lo de arriba\")"
      ]
    },
    {
      "cell_type": "markdown",
      "metadata": {
        "id": "vA-29uEIRyYF"
      },
      "source": [
        "##None: Representa la ausencia de un valor. El valor None es el único valor del tipo de datos NoneType."
      ]
    },
    {
      "cell_type": "code",
      "execution_count": 4,
      "metadata": {
        "colab": {
          "base_uri": "https://localhost:8080/"
        },
        "id": "v9O7JrF3CN7a",
        "outputId": "ec7152fa-b1ae-4c0f-e615-ab5c56c320e7"
      },
      "outputs": [
        {
          "output_type": "stream",
          "name": "stdout",
          "text": [
            "la variable posee algún valor\n",
            "El texto se imprime siempre que la variable no tenga asignado un valor\n"
          ]
        }
      ],
      "source": [
        "ej= \"None\"\n",
        "ej2= None\n",
        "if ej ==None:\n",
        "  print(\"La variable no tiene asignado un valor\")\n",
        "else:\n",
        "  print(\"la variable posee algún valor\")\n",
        "\n",
        "if ej2!=None:\n",
        "  print(\"Si el siguiente texto se imprime es porque la variable tiene un val0or asignado\")\n",
        "else:\n",
        "  print(\"El texto se imprime siempre que la variable no tenga asignado un valor\")\n",
        "\n",
        "#Nótese la diferencia entre el none con y sin comillas el primero indica que el valor de la variable si existe y dicho valor es el de un texto cuyo contenido es la palabra none\n",
        "#Mientras que al escribir None estamos aclarando que la variable no tiene nada asignado"
      ]
    },
    {
      "cell_type": "code",
      "execution_count": 3,
      "metadata": {
        "colab": {
          "base_uri": "https://localhost:8080/"
        },
        "id": "pwvduOnuRyKf",
        "outputId": "94c39bd3-6840-4f26-9dc7-62ae5d5c7b8b"
      },
      "outputs": [
        {
          "output_type": "stream",
          "name": "stdout",
          "text": [
            "Dato 1 es None\n",
            "Dato 2 no es None\n"
          ]
        }
      ],
      "source": [
        "var1=None\n",
        "var2=546\n",
        "if(var1 is None):\n",
        "    print(\"Dato 1 es None\")\n",
        "if(var2 is not None):\n",
        "    print(\"Dato 2 no es None\")"
      ]
    },
    {
      "cell_type": "markdown",
      "metadata": {
        "id": "BluSOUrtTXJM"
      },
      "source": [
        "##True: Se utiliza para representar el valor de verdad de una expresión, también devuelve el valor bool true para indicar que su operando es definitivamente true "
      ]
    },
    {
      "cell_type": "code",
      "execution_count": 2,
      "metadata": {
        "colab": {
          "base_uri": "https://localhost:8080/"
        },
        "id": "JdqXj5LyDJ_5",
        "outputId": "4098139a-039a-4d60-f6bd-a76380d1b222"
      },
      "outputs": [
        {
          "output_type": "stream",
          "name": "stdout",
          "text": [
            "La condición inicial indica un True\n",
            "Este texto es solo una impresión de control, siempre se va a imprimir sin importar lo de arriba\n"
          ]
        }
      ],
      "source": [
        "fino=True\n",
        "if fino:\n",
        "  print(\"La condición inicial indica un True\")\n",
        "else:\n",
        "  print(\"Si este texto se imprime significa que la condicion inicial es falsa\")\n",
        "\n",
        "print(\"Este texto es solo una impresión de control, siempre se va a imprimir sin importar lo de arriba\")"
      ]
    },
    {
      "cell_type": "markdown",
      "metadata": {
        "id": "KX1vuxNsVZ4X"
      },
      "source": [
        "##And: Nos sirve para devolver True si ambos operandos son True"
      ]
    },
    {
      "cell_type": "code",
      "execution_count": 8,
      "metadata": {
        "colab": {
          "base_uri": "https://localhost:8080/"
        },
        "id": "NXoswv8_V2mN",
        "outputId": "9cbbecf2-9077-4fb5-f752-64c9f9e05ff9"
      },
      "outputs": [
        {
          "output_type": "stream",
          "name": "stdout",
          "text": [
            "Ambas condiciones se han cumplido\n",
            "Una de las dos condiciones como mínimo resulta ser falsa\n"
          ]
        }
      ],
      "source": [
        "ej=\"None\"\n",
        "ej2= None\n",
        "if ej2==None and ej !=None:\n",
        "  print(\"Ambas condiciones se han cumplido\")\n",
        "else:\n",
        "  print(\"Una de las dos condiciones como mínimo resulta ser falsa\")\n",
        "  \n",
        "if ej2 ==None and ej==None:\n",
        "  print(\"Ambas condiciones se han cumplido\")\n",
        "else:\n",
        "  print(\"Una de las dos condiciones como mínimo resulta ser falsa\")"
      ]
    },
    {
      "cell_type": "code",
      "execution_count": 7,
      "metadata": {
        "colab": {
          "base_uri": "https://localhost:8080/"
        },
        "id": "wSNopDsiDgxZ",
        "outputId": "cd0ad977-d667-45bd-9028-909fbaaa816a"
      },
      "outputs": [
        {
          "output_type": "stream",
          "name": "stdout",
          "text": [
            "la función ha fallado\n"
          ]
        }
      ],
      "source": [
        "Opcion1=True\n",
        "Opcion2=False\n",
        "\n",
        "if Opcion1 and Opcion2:\n",
        "    print(\"Ambas funciones ejecutadas\")\n",
        "else:\n",
        "    print(\"la función ha fallado\")"
      ]
    },
    {
      "cell_type": "markdown",
      "metadata": {
        "id": "fpCN3O0xY05v"
      },
      "source": [
        "##As: Sirve para asignar valores a una variable. Esto generalmente se combina con otros operadores (como aritmética, bit a bit) donde la operación se realiza en los operandos y el resultado se asigna al operando izquierdo."
      ]
    },
    {
      "cell_type": "code",
      "execution_count": 9,
      "metadata": {
        "colab": {
          "base_uri": "https://localhost:8080/"
        },
        "id": "nPqhOye7Y-Dt",
        "outputId": "19c94dc3-2ef6-4cb5-859e-7d711c42185e"
      },
      "outputs": [
        {
          "output_type": "stream",
          "name": "stdout",
          "text": [
            "Operadores de asignación\n",
            "x+= 14\n",
            "Suma a la variable del lado izquierdo el valor del lado derecho\n",
            "x-= 4\n",
            "Resta a la variable del lado izquierdo el valor del lado derecho\n",
            "x*= 45\n",
            "Multiplica a la variable del lado izquierdo el valor del lado derecho\n",
            "x/= 1.8\n",
            "Divide a la variable del lado izquierdo el valor del lado derecho\n",
            "x%= 4\n",
            "Devuelve el resto de la división a la variable del lado izquierdo el valor del lado derecho\n",
            "x//= 1\n",
            "Calcula la división entera a la variable del lado izquierdo el valor del lado derecho\n",
            "x**= 59049\n",
            "Calcula el exponente a la variable del lado izquierdo el valor del lado derecho\n"
          ]
        }
      ],
      "source": [
        "a=9; b=5\n",
        "print(\"Operadores de asignación\")\n",
        "x=a; x+=b;  print(\"x+=\", x)  \n",
        "print(\"Suma a la variable del lado izquierdo el valor del lado derecho\")\n",
        "x=a; x-=b;  print(\"x-=\", x)  \n",
        "print(\"Resta a la variable del lado izquierdo el valor del lado derecho\")\n",
        "x=a; x*=b;  print(\"x*=\", x)  \n",
        "print(\"Multiplica a la variable del lado izquierdo el valor del lado derecho\")\n",
        "x=a; x/=b;  print(\"x/=\", x)  \n",
        "print(\"Divide a la variable del lado izquierdo el valor del lado derecho\")\n",
        "x=a; x%=b;  print(\"x%=\", x)  \n",
        "print(\"Devuelve el resto de la división a la variable del lado izquierdo el valor del lado derecho\")\n",
        "x=a; x//=b; print(\"x//=\", x) \n",
        "print(\"Calcula la división entera a la variable del lado izquierdo el valor del lado derecho\")\n",
        "x=a; x**=b; print(\"x**=\", x) \n",
        "print(\"Calcula el exponente a la variable del lado izquierdo el valor del lado derecho\")"
      ]
    },
    {
      "cell_type": "markdown",
      "metadata": {
        "id": "1cBuOBDFZtH7"
      },
      "source": [
        "##Assert: Nos permite realizar comprobaciones, si la expresión contenida dentro del mismo es False, se lanzará una excepción, concretamente AssertionError"
      ]
    },
    {
      "cell_type": "code",
      "execution_count": 16,
      "metadata": {
        "colab": {
          "base_uri": "https://localhost:8080/"
        },
        "id": "q1MadvHUZ6sU",
        "outputId": "19091c73-6110-43ab-bd0e-2b69e9969323"
      },
      "outputs": [
        {
          "output_type": "execute_result",
          "data": {
            "text/plain": [
              "8"
            ]
          },
          "metadata": {},
          "execution_count": 16
        }
      ],
      "source": [
        "def calcular_media(listado):\n",
        "    return sum(listado)/len(listado)\n",
        "assert(calcular_media([12, 6, 3]) == 7)\n",
        "assert(calcular_media([4, 8]) == 6)\n",
        "def suma(a, b):\n",
        "    assert(type(a) == int)\n",
        "    assert(type(b) == str)\n",
        "    return a+b\n",
        "suma(3, 5)"
      ]
    },
    {
      "cell_type": "code",
      "source": [
        "x=2\n",
        "\n",
        "assert x==1\n",
        "\n",
        "#El assert analiza si el condicional de x==1 se cumple, debido a que no es así porque el valor asignado de la x es dos, el programa nos muestra un AssertionError"
      ],
      "metadata": {
        "id": "PFTMhBUSJsuy"
      },
      "execution_count": null,
      "outputs": []
    },
    {
      "cell_type": "markdown",
      "metadata": {
        "id": "fl4Dfzbcasdk"
      },
      "source": [
        "##Break: Le proporciona la oportunidad de cerrar un bucle cuando se activa una condición externa. Debe poner la instrucción break dentro del bloque de código bajo la instrucción de su bucle, generalmente después de una instrucción if condicional"
      ]
    },
    {
      "cell_type": "code",
      "execution_count": 19,
      "metadata": {
        "colab": {
          "base_uri": "https://localhost:8080/"
        },
        "id": "LWSnyF7KbOg1",
        "outputId": "8d706aa9-e3c5-4281-e773-ac293d734cad"
      },
      "outputs": [
        {
          "output_type": "stream",
          "name": "stdout",
          "text": [
            "2\n",
            "El programa sigue en el bucle\n",
            "4\n",
            "El programa sigue en el bucle\n",
            "6\n",
            "El programa sigue en el bucle\n",
            "8\n",
            "El programa sigue en el bucle\n",
            "10\n",
            "El programa sigue en el bucle\n",
            "12\n",
            "El programa sigue en el bucle\n",
            "14\n",
            "El programa sigue en el bucle\n",
            "16\n",
            "El programa sigue en el bucle\n",
            "se saldrá del bucle\n"
          ]
        }
      ],
      "source": [
        "contador =0\n",
        "while True:\n",
        "    contador+=2\n",
        "    print(contador)\n",
        "    print(\"El programa sigue en el bucle\")\n",
        "    if contador>=15:\n",
        "       print(\"se saldrá del bucle\")\n",
        "       break"
      ]
    },
    {
      "cell_type": "code",
      "execution_count": 20,
      "metadata": {
        "colab": {
          "base_uri": "https://localhost:8080/"
        },
        "id": "q7jIIyiRIrSg",
        "outputId": "db976a5b-30bf-44e6-ea31-63c73218b84d"
      },
      "outputs": [
        {
          "output_type": "stream",
          "name": "stdout",
          "text": [
            "s\n",
            "t\n",
            "r\n",
            "The end\n"
          ]
        }
      ],
      "source": [
        "for val in \"string\":\n",
        "    if val == \"i\":\n",
        "        break\n",
        "    print(val)\n",
        "\n",
        "print(\"Se acabó\")"
      ]
    },
    {
      "cell_type": "markdown",
      "metadata": {
        "id": "NStffAW-eA6p"
      },
      "source": [
        "##Class: Es un tipo de dato definido por el usuario, y la crear instancias de una clase hace relación a la creación de objetos de ese tipo. Las clases y los objetos son considerados los principales bloques de desarrollo para Python, el cual es un lenguaje de programación orientado a objetos."
      ]
    },
    {
      "cell_type": "code",
      "execution_count": null,
      "metadata": {
        "colab": {
          "base_uri": "https://localhost:8080/"
        },
        "id": "PHs4Scr-eAzC",
        "outputId": "e61ec656-8c82-4bdb-9215-efe1f4fa5ba4"
      },
      "outputs": [
        {
          "name": "stdout",
          "output_type": "stream",
          "text": [
            "¡Hola, Pablo!\n"
          ]
        }
      ],
      "source": [
        "class Alumno:\n",
        "\n",
        "    def __init__(self, nombre):\n",
        "        self.nombre = nombre\n",
        "\n",
        "    def saludar(self):\n",
        "        \"\"\"Imprime un saludo en pantalla.\"\"\"\n",
        "        print(f\"¡Hola, {self.nombre}!\")\n",
        "\n",
        "\n",
        "alumno = Alumno(\"Pablo\")\n",
        "alumno.saludar()"
      ]
    },
    {
      "cell_type": "markdown",
      "metadata": {
        "id": "T5ZnHRGuexEi"
      },
      "source": [
        "##Continue: Da la opción de omitir la parte de un bucle en la que se activa una condición externa, pero continuar para completar el resto del bucle. Es decir, la iteración actual del bucle se interrumpirá, pero el programa volverá a la parte superior del bucle."
      ]
    },
    {
      "cell_type": "code",
      "execution_count": 21,
      "metadata": {
        "colab": {
          "base_uri": "https://localhost:8080/"
        },
        "id": "fpqQtdrqfJIE",
        "outputId": "565cb126-09a1-4869-9596-ef2a39e5b9f3"
      },
      "outputs": [
        {
          "output_type": "stream",
          "name": "stdout",
          "text": [
            "0\n",
            "1\n",
            "3\n",
            "4\n",
            "5\n",
            "6\n",
            "7\n",
            "8\n",
            "9\n",
            "10\n",
            "11\n",
            "12\n",
            "13\n",
            "14\n",
            "15\n",
            "16\n",
            "17\n",
            "18\n",
            "19\n",
            "20\n",
            "21\n",
            "22\n",
            "23\n",
            "24\n",
            "25\n",
            "26\n",
            "27\n",
            "28\n",
            "29\n",
            "30\n",
            "31\n",
            "32\n",
            "33\n",
            "34\n",
            "35\n",
            "36\n",
            "37\n",
            "38\n",
            "39\n",
            "40\n",
            "41\n",
            "42\n",
            "43\n",
            "44\n"
          ]
        }
      ],
      "source": [
        "for n in range(45):\n",
        "  if n==2:\n",
        "    continue\n",
        "  print(n)"
      ]
    },
    {
      "cell_type": "code",
      "execution_count": 22,
      "metadata": {
        "colab": {
          "base_uri": "https://localhost:8080/"
        },
        "id": "tliIRP0_Ieco",
        "outputId": "c1f99fcd-adee-4fbd-8a10-3d54ef82f628"
      },
      "outputs": [
        {
          "output_type": "stream",
          "name": "stdout",
          "text": [
            "f\n",
            "e\n",
            "l\n",
            "z\n",
            "The end\n"
          ]
        }
      ],
      "source": [
        "for val in \"feliz\":\n",
        "    if val == \"i\":\n",
        "        continue\n",
        "    print(val)\n",
        "\n",
        "print(\"The end\")"
      ]
    },
    {
      "cell_type": "markdown",
      "metadata": {
        "id": "P9Y5ShitfXp7"
      },
      "source": [
        "##Def: Es una palabra reservada que indica a Python que una nueva función está siendo definida."
      ]
    },
    {
      "cell_type": "code",
      "execution_count": null,
      "metadata": {
        "colab": {
          "base_uri": "https://localhost:8080/"
        },
        "id": "YdgUGe1egr75",
        "outputId": "0b49afbf-7f91-4b0c-9d3e-d3acc82602ed"
      },
      "outputs": [
        {
          "name": "stdout",
          "output_type": "stream",
          "text": [
            "x vale 10\n",
            "y vale 20\n"
          ]
        }
      ],
      "source": [
        "y = 20\n",
        "def muestra_x():\n",
        "  x = 10\n",
        "  print(f'x vale {x}')\n",
        "  print(f'y vale {y}')\n",
        "    \n",
        "muestra_x()"
      ]
    },
    {
      "cell_type": "code",
      "execution_count": 47,
      "metadata": {
        "id": "9JyE0kaRIP3A",
        "colab": {
          "base_uri": "https://localhost:8080/",
          "height": 252
        },
        "outputId": "6ef25956-69fd-4eec-c221-5ef871a9fa58"
      },
      "outputs": [
        {
          "name": "stdout",
          "output_type": "stream",
          "text": [
            "Digite los valores para a,b,c,d,e y f:\n",
            "56,4,53,2,1,5\n"
          ]
        },
        {
          "output_type": "error",
          "ename": "TypeError",
          "evalue": "ignored",
          "traceback": [
            "\u001b[0;31m---------------------------------------------------------------------------\u001b[0m",
            "\u001b[0;31mTypeError\u001b[0m                                 Traceback (most recent call last)",
            "\u001b[0;32m<ipython-input-47-b1fba7a72400>\u001b[0m in \u001b[0;36m<module>\u001b[0;34m\u001b[0m\n\u001b[1;32m     11\u001b[0m \u001b[0;34m\u001b[0m\u001b[0m\n\u001b[1;32m     12\u001b[0m \u001b[0mprint\u001b[0m\u001b[0;34m(\u001b[0m\u001b[0;34m\"Digite los valores para a,b,c,d,e y f:\"\u001b[0m\u001b[0;34m)\u001b[0m\u001b[0;34m\u001b[0m\u001b[0;34m\u001b[0m\u001b[0m\n\u001b[0;32m---> 13\u001b[0;31m \u001b[0ma\u001b[0m\u001b[0;34m,\u001b[0m\u001b[0mb\u001b[0m\u001b[0;34m,\u001b[0m\u001b[0mc\u001b[0m\u001b[0;34m,\u001b[0m\u001b[0md\u001b[0m\u001b[0;34m,\u001b[0m\u001b[0me\u001b[0m\u001b[0;34m,\u001b[0m\u001b[0mf\u001b[0m\u001b[0;34m=\u001b[0m \u001b[0mmap\u001b[0m\u001b[0;34m(\u001b[0m\u001b[0mfloat\u001b[0m\u001b[0;34m(\u001b[0m\u001b[0minput\u001b[0m\u001b[0;34m(\u001b[0m\u001b[0;34m)\u001b[0m\u001b[0;34m.\u001b[0m\u001b[0msplit\u001b[0m\u001b[0;34m(\u001b[0m\u001b[0;34m)\u001b[0m\u001b[0;34m)\u001b[0m\u001b[0;34m)\u001b[0m\u001b[0;34m\u001b[0m\u001b[0;34m\u001b[0m\u001b[0m\n\u001b[0m\u001b[1;32m     14\u001b[0m \u001b[0mprint\u001b[0m\u001b[0;34m(\u001b[0m\u001b[0msolucionsistemaecuaciones\u001b[0m\u001b[0;34m(\u001b[0m\u001b[0ma\u001b[0m\u001b[0;34m,\u001b[0m\u001b[0mb\u001b[0m\u001b[0;34m,\u001b[0m\u001b[0mc\u001b[0m\u001b[0;34m,\u001b[0m\u001b[0md\u001b[0m\u001b[0;34m,\u001b[0m\u001b[0me\u001b[0m\u001b[0;34m,\u001b[0m\u001b[0mf\u001b[0m\u001b[0;34m)\u001b[0m\u001b[0;34m)\u001b[0m\u001b[0;34m\u001b[0m\u001b[0;34m\u001b[0m\u001b[0m\n",
            "\u001b[0;31mTypeError\u001b[0m: float() argument must be a string or a number, not 'list'"
          ]
        }
      ],
      "source": [
        "def solucionsistemaecuaciones(a,b,c,d,e,f):\n",
        "  determinante=a*e-b*d\n",
        "\n",
        "  if determinante!=0:\n",
        "    x=(c*e-b*f)/determinante\n",
        "    y=(a*f-c*d)/determinante\n",
        "\n",
        "    return x,y\n",
        "  else:\n",
        "    return None,None\n",
        "\n",
        "print(\"Digite los valores para a,b,c,d,e y f:\")\n",
        "a,b,c,d,e,f= map(float(input().split(\" \")))\n",
        "print(solucionsistemaecuaciones(a,b,c,d,e,f))\n"
      ]
    },
    {
      "cell_type": "markdown",
      "metadata": {
        "id": "7x2kwxfMhJhb"
      },
      "source": [
        "##Del: Se utiliza para eliminar objetos. Debido a la naturaleza orientada a objetos de Python, todo lo que puede contener datos es un objeto. Entonces, la declaración del se puede usar para eliminar variables, objetos de clase, listas, etc."
      ]
    },
    {
      "cell_type": "code",
      "execution_count": null,
      "metadata": {
        "colab": {
          "base_uri": "https://localhost:8080/"
        },
        "id": "SQxzGaafJHwQ",
        "outputId": "02b74707-080b-4840-e940-0b96b5a01d02"
      },
      "outputs": [
        {
          "name": "stdout",
          "output_type": "stream",
          "text": [
            "Eliminar elemento de diccionario con la declaración del en Python\n",
            "{'key1': 'value1', 'key2': 'value2', 'key3': 'value3'}\n",
            "{'key3': 'value3'}\n"
          ]
        }
      ],
      "source": [
        "print(\"Eliminar elemento de diccionario con la declaración del en Python\")\n",
        "dictionary = {\"key1\" : \"value1\", \"key2\" : \"value2\", \"key3\" : \"value3\"}\n",
        "print(dictionary)\n",
        "del dictionary[\"key2\"]\n",
        "del dictionary[\"key1\"]\n",
        "print(dictionary)"
      ]
    },
    {
      "cell_type": "markdown",
      "metadata": {
        "id": "vczvtqNyJwdv"
      },
      "source": [
        "##Elif: Es una forma común de controlar el flujo de un programa, lo que te permite ejecutar bloques de código específicos según el valor de algunos datos. Si la condición que sigue a la palabra clave if se evalúa como verdadera, el bloque de código se ejecutará"
      ]
    },
    {
      "cell_type": "code",
      "execution_count": 48,
      "metadata": {
        "colab": {
          "base_uri": "https://localhost:8080/"
        },
        "id": "WNp8a5rOJv4J",
        "outputId": "034c22ca-edc0-474a-fd3e-7d147bec0010"
      },
      "outputs": [
        {
          "output_type": "stream",
          "name": "stdout",
          "text": [
            "A continuacion ingrese las edades de 3 hermanos\n",
            "Ingrese el nombre del primer hermanojuan\n",
            "Ingrese el año de nacimiento del primer hermano2002\n",
            "Ingrese el nombre del segundo hermanofelipe\n",
            "Ingrese el año de nacimiento del segundo hermano2003\n",
            "Ingrese el nombre del tercer hermano}tarzan\n",
            "Ingrese el año de nacimiento del tercer hermano2001\n",
            "El mayor es  tarzan  seguido de  juan siendo el menor felipe\n"
          ]
        }
      ],
      "source": [
        "print(\"A continuacion ingrese las edades de 3 hermanos\")\n",
        "nhermano1=str(input(\"Ingrese el nombre del primer hermano\"))\n",
        "hermano1=int(input(\"Ingrese el año de nacimiento del primer hermano\"))\n",
        "nhermano2=str(input(\"Ingrese el nombre del segundo hermano\"))\n",
        "hermano2=int(input(\"Ingrese el año de nacimiento del segundo hermano\"))\n",
        "nhermano3=str(input(\"Ingrese el nombre del tercer hermano}\"))\n",
        "hermano3=int(input(\"Ingrese el año de nacimiento del tercer hermano\"))\n",
        "\n",
        "\n",
        "if hermano1<hermano2:\n",
        "  if hermano1<hermano3:\n",
        "    if hermano2<hermano3:\n",
        "      print(\"El mayor es \",nhermano1,\" seguido de \",nhermano2,\"siendo el menor\",nhermano3)\n",
        "\n",
        "    elif hermano3<hermano2:\n",
        "      print(\"El mayor es \",nhermano1,\" seguido de \",nhermano3,\"siendo el menor\",nhermano2)\n",
        "\n",
        "    else:\n",
        "      print(\"El mayor es \",nhermano1,\" y los hermanos \",nhermano2,\" y \",nhermano3,\" son mellizos\")\n",
        "\n",
        "\n",
        "  elif hermano3<hermano1:\n",
        "      print(\"El mayor es \",nhermano3,\" seguido de \",nhermano1,\"siendo el menor\",nhermano2)\n",
        "\n",
        "  else:\n",
        "      print(\"El menor es \",nhermano2,\" y los hermanos \",nhermano1,\" y \",nhermano3,\" son mellizos\")\n",
        "\n",
        "elif hermano2<hermano1:\n",
        "  if hermano2<hermano3:\n",
        "    if hermano1>hermano3:\n",
        "      print(\"El mayor es \",nhermano2,\" seguido de \",nhermano1,\"siendo el menor\",nhermano3)\n",
        "\n",
        "    elif hermano3<hermano1:\n",
        "      print(\"El mayor es \",nhermano2,\" seguido de \",nhermano3,\"siendo el menor\",nhermano1)\n",
        "\n",
        "    else:\n",
        "      print(\"El mayor es \",nhermano2,\" y los hermanos \",nhermano1,\" y \",nhermano3,\" son mellizos\")\n",
        "\n",
        "  elif hermano3<hermano2:\n",
        "      print(\"El mayor es \",nhermano3,\" seguido de \",nhermano2,\"siendo el menor\",nhermano1)\n",
        "\n",
        "  else:\n",
        "      print(\"El menor es \",nhermano1,\" y los hermanos \",nhermano2,\" y \",nhermano3,\" son mellizos\")\n",
        "\n",
        "else:\n",
        "  if hermano3<hermano1:\n",
        "    print(\"El mayor es \",nhermano3,\" y los hermanos \",nhermano2,\" y \",nhermano1,\" son mellizos\")\n",
        "  elif hermano1<hermano3:\n",
        "    print(\"El menor es \",nhermano3,\" y los hermanos \",nhermano2,\" y \",nhermano1,\" son mellizos\")\n",
        "  else:\n",
        "    print(nhermano1,\", \",nhermano2,\" y \",nhermano3,\" son trillizos\")"
      ]
    },
    {
      "cell_type": "markdown",
      "metadata": {
        "id": "_MDanZGFP8Yw"
      },
      "source": [
        "##Else: Es una forma común de controlar el flujo de un programa, lo que te permite ejecutar bloques de código específicos según el valor de algunos datos y se ejecutará si la condición es false"
      ]
    },
    {
      "cell_type": "code",
      "execution_count": null,
      "metadata": {
        "colab": {
          "base_uri": "https://localhost:8080/"
        },
        "id": "a5leXTaDQixH",
        "outputId": "4d3f76cf-5e0f-4c7c-e5bf-965e54330761"
      },
      "outputs": [
        {
          "name": "stdout",
          "output_type": "stream",
          "text": [
            "Escribe un numero entero4\n",
            "Escribe otro numero entero5\n",
            "4\n",
            "El resultado de la division no es exacta\n"
          ]
        }
      ],
      "source": [
        "Número1=int(input(\"Escribe un numero entero\"))\n",
        "Número2=int(input(\"Escribe otro numero entero\"))\n",
        "if Número2!=0:\n",
        "  División=Número1/Número2\n",
        "  modulo=Número1%Número2\n",
        "  if modulo==0:\n",
        "    print(modulo)\n",
        "    print(\"El resultado de la division es exacta\")\n",
        "  else:\n",
        "    print(modulo)\n",
        "    print(\"El resultado de la division no es exacta\")\n",
        "else:\n",
        "  print(\"No se puede resolver porque es indefinida\")"
      ]
    },
    {
      "cell_type": "markdown",
      "metadata": {
        "id": "ATlTuRyKQ_FB"
      },
      "source": [
        "##Except: Detiene la ejecución y devuelve una excepción, que no es más que una señal que ha occurrido un funcionamiento no esperado o error en el programa, indicándonos aproximadamente qué fue lo que ocurrió."
      ]
    },
    {
      "cell_type": "code",
      "execution_count": 49,
      "metadata": {
        "colab": {
          "base_uri": "https://localhost:8080/"
        },
        "id": "Ni8eGp_USyOQ",
        "outputId": "172fe467-9302-43d6-e1ec-0d55da6f7ff4"
      },
      "outputs": [
        {
          "output_type": "stream",
          "name": "stdout",
          "text": [
            "No se permite la división por cero\n"
          ]
        }
      ],
      "source": [
        "try:\n",
        "  cociente = dividendo / divisor\n",
        "except:\n",
        "  print(\"No se permite la división por cero\")"
      ]
    },
    {
      "cell_type": "markdown",
      "metadata": {
        "id": "jGA4LgMzUuQw"
      },
      "source": [
        "##Finally: Se escriben las sentencias de finalización, que son típicamente acciones de limpieza. La particularidad del bloque finally es que se ejecuta siempre, haya surgido una excepción o no."
      ]
    },
    {
      "cell_type": "code",
      "execution_count": 26,
      "metadata": {
        "colab": {
          "base_uri": "https://localhost:8080/"
        },
        "id": "jDnNyI00VCkf",
        "outputId": "6dbb978c-bfb1-49bd-d1fd-ccbf2237f7b6"
      },
      "outputs": [
        {
          "output_type": "stream",
          "name": "stdout",
          "text": [
            "No se puede grabar un entero con write\n",
            "Se cerró el archivo\n"
          ]
        }
      ],
      "source": [
        "try:\n",
        "    archivo=open(\"datos.txt\",\"w\") \n",
        "    archivo.write(\"Primer línea.\\n\") \n",
        "    archivo.write(\"Segunda línea.\\n\") \n",
        "    archivo.write(\"Tercer línea.\\n\")  \n",
        "    archivo.write(3334)\n",
        "except TypeError:\n",
        "    print(\"No se puede grabar un entero con write\")    \n",
        "finally:\n",
        "    archivo.close() \n",
        "    print(\"Se cerró el archivo\")"
      ]
    },
    {
      "cell_type": "markdown",
      "metadata": {
        "id": "DaNoGKm0YYbP"
      },
      "source": [
        "##For: Establece la variable iteradora en cada valor de una lista, arreglo o cadena proporcionada y repite el código en el cuerpo del bucle for para cada valor de la variable iteradora."
      ]
    },
    {
      "cell_type": "code",
      "execution_count": 23,
      "metadata": {
        "colab": {
          "base_uri": "https://localhost:8080/"
        },
        "id": "p72ipQ72ZcEA",
        "outputId": "379ab60b-7a11-4b5b-db6b-e3808ad52bfd"
      },
      "outputs": [
        {
          "output_type": "stream",
          "name": "stdout",
          "text": [
            "Ingrese el número: 7\n",
            "6\n",
            "30\n",
            "120\n",
            "360\n",
            "720\n",
            "720\n",
            "5040\n"
          ]
        }
      ],
      "source": [
        "n=int(input(\"Ingrese el número: \"))\n",
        "contador=1\n",
        "for i in range(1,n):\n",
        "  resta=n-i\n",
        "  contador=contador*resta\n",
        "  print(contador)\n",
        "\n",
        "factorial=n*contador\n",
        "print(factorial)"
      ]
    },
    {
      "cell_type": "markdown",
      "metadata": {
        "id": "o2YaeLXyZu_u"
      },
      "source": [
        "##From: Sirve para indicarle a Python específicamente cuáles objetos queremos importar de un módulo en particular. Luego, los objetos importados se incorporan a nuestro archivo como cualquier otro objeto definido dentro de él. Por esta razón, no es necesario (ni posible) usar el prefijo mimodulo"
      ]
    },
    {
      "cell_type": "code",
      "execution_count": 27,
      "metadata": {
        "colab": {
          "base_uri": "https://localhost:8080/"
        },
        "id": "d_RlCTAwaEKZ",
        "outputId": "22ada247-0082-475e-8266-2985d660c8f8"
      },
      "outputs": [
        {
          "output_type": "stream",
          "name": "stdout",
          "text": [
            "nombres: Juan Nicolás\n",
            "apellidos: Zuluaga Jauregui\n",
            "cedula: 1005260365\n",
            "lugar_nacimiento: Santander/Colombia \n",
            "nacionalidad: Colombiano\n",
            "Altura: 1.78 CM\n",
            "Peso: 63 kg\n"
          ]
        }
      ],
      "source": [
        "datos_basicos = {\n",
        "    \"nombres\":\"Juan Nicolás\",\n",
        "    \"apellidos\":\"Zuluaga Jauregui\",\n",
        "    \"cedula\":\"1005260365\",\n",
        "    \"lugar_nacimiento\":\"Santander/Colombia \",\n",
        "    \"nacionalidad\":\"Colombiano\",\n",
        "    \"Altura\":\"1.78 CM\",\n",
        "    \"Peso\":\"63 kg\"\n",
        "}\n",
        "clave = datos_basicos.keys()\n",
        "valor = datos_basicos.values()\n",
        "cantidad_datos = datos_basicos.items()\n",
        "\n",
        "for clave, valor in cantidad_datos:\n",
        "    print (clave + \": \" + valor)"
      ]
    },
    {
      "cell_type": "markdown",
      "metadata": {
        "id": "XujOEDzcaQzw"
      },
      "source": [
        "##Global: Son aquellas definidas en el cuerpo principal del programa fuera de cualquier función. Son accesibles desde cualquier punto del programa, incluso desde dentro de funciones. También se puede acceder a las variables globales de otros programas o módulos importados."
      ]
    },
    {
      "cell_type": "code",
      "execution_count": null,
      "metadata": {
        "colab": {
          "base_uri": "https://localhost:8080/"
        },
        "id": "dEHxOWccaakO",
        "outputId": "81cafb2e-0fbb-4f2b-9f82-20dd2254420e"
      },
      "outputs": [
        {
          "name": "stdout",
          "output_type": "stream",
          "text": [
            "Variable global desde una función:\n",
            "Contador antes es 10\n",
            "Contador después es 10\n"
          ]
        }
      ],
      "source": [
        "print(\"Variable global:\")\n",
        "\n",
        "contador = 10\n",
        "def reiniciar_contador():\n",
        "\tcontador = 0\n",
        "print(f'Contador antes es {contador}')\n",
        "reiniciar_contador()\n",
        "print(f'Contador después es {contador}')"
      ]
    },
    {
      "cell_type": "markdown",
      "metadata": {
        "id": "PJhkr-ZZa0Tf"
      },
      "source": [
        "##If: Esencialmente dice: \"Si la expresión evaluada, resulta ser verdadera(True), entonces ejecuta una vez el código en la expresión. Si sucede el caso contrario y la expresión es falsa, entonces No ejecutes el código que sigue.\""
      ]
    },
    {
      "cell_type": "code",
      "execution_count": null,
      "metadata": {
        "colab": {
          "base_uri": "https://localhost:8080/"
        },
        "id": "ZklFs0jFbJLm",
        "outputId": "0483933a-bbeb-416a-934d-2bd08473111c"
      },
      "outputs": [
        {
          "name": "stdout",
          "output_type": "stream",
          "text": [
            "Ingrese la descripción\n",
            "U0015741\n",
            "Es de la UNAB\n"
          ]
        }
      ],
      "source": [
        "print(\"Ingrese la descripción\")\n",
        "caracteres = input()\n",
        "if(caracteres.find('U') == 0):\n",
        "    print(\"Es de la UNAB\")\n",
        "elif(caracteres.startswith('A000')):\n",
        "    print(\"Es de los ANDES\")\n",
        "else:\n",
        "  if(int(caracteres) > 1950):\n",
        "    print(\"Es de la UIS\")\n",
        "  else:\n",
        "    print(\"No pertenece a nada\")"
      ]
    },
    {
      "cell_type": "markdown",
      "metadata": {
        "id": "Wbqk0jGObODw"
      },
      "source": [
        "##Import: Obtiene acceso al código en otro módulo por el proceso de importarlo. La instrucción import es la forma más común de invocar la maquinaria de importación, pero no es la única manera."
      ]
    },
    {
      "cell_type": "code",
      "execution_count": 33,
      "metadata": {
        "colab": {
          "base_uri": "https://localhost:8080/"
        },
        "id": "qn4-xkf-qayH",
        "outputId": "e877600b-4d6e-4244-ea14-4c5e9be71017"
      },
      "outputs": [
        {
          "output_type": "stream",
          "name": "stdout",
          "text": [
            "Ingrese el coeficiente de la variable cuadrática\n",
            "7\n",
            "Ingrese el coeficiente de la variable lineal\n",
            "2\n",
            "Ingrese el término independiente\n",
            "4\n",
            "La solución de la ecuación es con números complejos\n"
          ]
        }
      ],
      "source": [
        "from math import sqrt\n",
        "A = int(input(\"Ingrese el coeficiente de la variable cuadrática\\n\"))\n",
        "B = int(input(\"Ingrese el coeficiente de la variable lineal\\n\"))\n",
        "C = int(input(\"Ingrese el término independiente\\n\"))\n",
        "x1= 0\n",
        "x2= 0\n",
        "if ((B**2)-4*A*C) < 0:\n",
        "  print(\"La solución de la ecuación es con números complejos\")\n",
        "else:\n",
        "  x1 = (-B+sqrt(B**2-(4*A*C)))/(2*A)\n",
        "  x2 = (-B-sqrt(B**2-(4*A*C)))/(2*A)\n",
        "  print(\"Las soluciones de la ecuación son:\")\n",
        "  print(x1)\n",
        "  print(x2)"
      ]
    },
    {
      "cell_type": "markdown",
      "metadata": {
        "id": "cpc6TNR-uwpn"
      },
      "source": [
        "##In y Not: Son operadores de pertenencia, in devuelve True si el valor especificado se encuentra en la secuencia. En caso contrario devuelve False, not in devuelve True si el valor especificado no se encuentra en la secuencia."
      ]
    },
    {
      "cell_type": "code",
      "execution_count": null,
      "metadata": {
        "colab": {
          "base_uri": "https://localhost:8080/"
        },
        "id": "hDFsPiaCu8mW",
        "outputId": "0da9fdb4-1ceb-4686-bebd-9383607b1ca0"
      },
      "outputs": [
        {
          "name": "stdout",
          "output_type": "stream",
          "text": [
            "Ingrese el número: 3\n",
            "2\n",
            "2\n",
            "6\n"
          ]
        }
      ],
      "source": [
        "n=int(input(\"Ingrese el número: \"))\n",
        "contador=1\n",
        "for i in range(1,n):\n",
        "  resta=n-i\n",
        "  contador=contador*resta\n",
        "  print(contador)\n",
        "\n",
        "factorial=n*contador\n",
        "print(factorial)"
      ]
    },
    {
      "cell_type": "code",
      "execution_count": null,
      "metadata": {
        "colab": {
          "base_uri": "https://localhost:8080/"
        },
        "id": "4Crzm8wBvx7k",
        "outputId": "2c022f39-bb4b-4db3-f1fb-7607a065b282"
      },
      "outputs": [
        {
          "name": "stdout",
          "output_type": "stream",
          "text": [
            "El diccionario esta vacio\n"
          ]
        }
      ],
      "source": [
        "a=dict({})\n",
        "if not a:\n",
        "  print(\"El diccionario esta vacio\")\n",
        "else:\n",
        "  print(a)"
      ]
    },
    {
      "cell_type": "markdown",
      "metadata": {
        "id": "Gds-RQ2-wNMF"
      },
      "source": [
        "##Is: Devolverá True si las dos variables apuntan al mismo objeto, hace que nuestro código sea muy legible pero puede resultar muy engañoso."
      ]
    },
    {
      "cell_type": "code",
      "execution_count": null,
      "metadata": {
        "colab": {
          "base_uri": "https://localhost:8080/"
        },
        "id": "FweUDIacyOZo",
        "outputId": "54e3a37e-f619-4232-8b7b-3820a4a9f6f0"
      },
      "outputs": [
        {
          "name": "stdout",
          "output_type": "stream",
          "text": [
            "Ingrese el número: 5\n",
            "8\n",
            "24\n",
            "48\n",
            "48\n",
            "240\n"
          ]
        }
      ],
      "source": [
        "n=int(input(\"Ingrese el número: \"))\n",
        "contador is 1\n",
        "for i in range(1,n):\n",
        "  resta=n-i\n",
        "  contador=contador*resta\n",
        "  print(contador)\n",
        "\n",
        "factorial=n*contador\n",
        "print(factorial)"
      ]
    },
    {
      "cell_type": "markdown",
      "metadata": {
        "id": "eXWrUxG8w2Ds"
      },
      "source": [
        "##Lambda: Son una forma corta de declarar funciones pequeñas y anónimas (no es necesario proporcionar un nombre para las funciones lambda). Las funciones Lambda se comportan como funciones normales declaradas con la palabra clave def.\n",
        "\n",
        "\n",
        "\n"
      ]
    },
    {
      "cell_type": "code",
      "execution_count": 30,
      "metadata": {
        "colab": {
          "base_uri": "https://localhost:8080/"
        },
        "id": "tT5Lic4Gw1wV",
        "outputId": "f0b9629e-b485-492c-a2b5-c7ba801935c7"
      },
      "outputs": [
        {
          "output_type": "stream",
          "name": "stdout",
          "text": [
            "[18, -3, 5, 0, -1, 12]\n"
          ]
        }
      ],
      "source": [
        "mi_lista = [18, -3, 5, 0, -1, 12]\n",
        "lista_nueva = list(filter(lambda x: x >= -6, mi_lista))\n",
        "print(lista_nueva)"
      ]
    },
    {
      "cell_type": "markdown",
      "metadata": {
        "id": "IB8RLoeozwTP"
      },
      "source": [
        "##Nonlocal: Se usa para trabajar con variables dentro de funciones anidadas, donde la variable no debe pertenecer a la función interna. Use la palabra clave nonlocal para declarar que la variable no es local"
      ]
    },
    {
      "cell_type": "code",
      "execution_count": null,
      "metadata": {
        "colab": {
          "base_uri": "https://localhost:8080/"
        },
        "id": "A9Y-mFrUz3et",
        "outputId": "5d553b2e-9902-40e1-e1e3-f8b3a5bc4a22"
      },
      "outputs": [
        {
          "name": "stdout",
          "output_type": "stream",
          "text": [
            "Ey, soy yo\n"
          ]
        }
      ],
      "source": [
        "def myfunc1():\n",
        "  x = \"John\"\n",
        "  def myfunc2():\n",
        "    nonlocal x\n",
        "    x = \"Ey, soy yo\"\n",
        "  myfunc2()\n",
        "  return x\n",
        "\n",
        "print(myfunc1())"
      ]
    },
    {
      "cell_type": "markdown",
      "metadata": {
        "id": "dxBd-OrG0hZd"
      },
      "source": [
        "##Or: Devuelve el valor booleano true si uno o ambos operandos son true y, de lo contrario, devuelven false . Los operandos se convierten implícitamente al tipo bool antes de la evaluación y el resultado es de tipo bool . El operador OR lógico tiene asociatividad de izquierda a derecha"
      ]
    },
    {
      "cell_type": "code",
      "execution_count": null,
      "metadata": {
        "colab": {
          "base_uri": "https://localhost:8080/"
        },
        "id": "IHDANeF70kCr",
        "outputId": "c4ea1507-c89b-4ce6-afb0-66157bf8c06d"
      },
      "outputs": [
        {
          "name": "stdout",
          "output_type": "stream",
          "text": [
            "Sigues libre.\n"
          ]
        }
      ],
      "source": [
        "today = 'Domingo'\n",
        " \n",
        "if today=='Lunes':\n",
        "    print('Tu fin de semana ha terminado. Ve a trabajar')\n",
        "elif today=='Domingo' or today=='Sabado':\n",
        "    print('Sigues libre.')\n",
        "else:\n",
        "    print('Ve a trabajar.')"
      ]
    },
    {
      "cell_type": "markdown",
      "metadata": {
        "id": "zh0n8yFt1Cta"
      },
      "source": [
        "##Pass:  Es una declaración nula. El intérprete no ignora una declaración de paso, pero no sucede nada y la declaración no da como resultado ninguna operación. La instrucción pass es útil cuando no escribe la implementación de una función pero desea implementarla en el futuro."
      ]
    },
    {
      "cell_type": "code",
      "execution_count": null,
      "metadata": {
        "colab": {
          "base_uri": "https://localhost:8080/"
        },
        "id": "re5CSuon1PGQ",
        "outputId": "66f8ee7c-d535-4f55-ac2d-7298ddf45a74"
      },
      "outputs": [
        {
          "name": "stdout",
          "output_type": "stream",
          "text": [
            "{'s', 'a', 'p'}\n"
          ]
        }
      ],
      "source": [
        "sequence = {'p', 'a', 's', 's'}\n",
        "for val in sequence:\n",
        "    pass\n",
        "print(sequence)"
      ]
    },
    {
      "cell_type": "markdown",
      "metadata": {
        "id": "2vomMFuN1od-"
      },
      "source": [
        "##Raise: Para levantar una excepción de cualquier tipo, utilizamos también la sentencia raise , pero indicándole el tipo de excepción que deseamos lanzar y pasando a la excepción los parámetros con información adicional que queramos brindar. El siguiente fragmento de código muestra este uso de raise"
      ]
    },
    {
      "cell_type": "code",
      "execution_count": null,
      "metadata": {
        "colab": {
          "base_uri": "https://localhost:8080/"
        },
        "id": "iOjNZ1gt1gk5",
        "outputId": "9a9337e1-7eaa-4016-e934-a1156c05acc8"
      },
      "outputs": [
        {
          "name": "stdout",
          "output_type": "stream",
          "text": [
            "{'mensaje': 'Mi Mensaje', 'informacion': 'Mi Informacion'}\n",
            "Mi Mensaje\n",
            "Mi Informacion\n"
          ]
        }
      ],
      "source": [
        "class MiExcepcion(Exception):\n",
        "    pass\n",
        "try:\n",
        "    raise MiExcepcion({\"mensaje\":\"Mi Mensaje\", \"informacion\":\"Mi Informacion\"})\n",
        "except MiExcepcion as e:\n",
        "    detalles = e.args[0]\n",
        "    print(detalles)\n",
        "    print(detalles[\"mensaje\"])\n",
        "    print(detalles[\"informacion\"])"
      ]
    },
    {
      "cell_type": "markdown",
      "metadata": {
        "id": "3xSjVg642TPn"
      },
      "source": [
        "##Return: Termina la ejecución de una función y devuelve el control a la función de llamada. La ejecución se reanuda en la función de llamada, en el punto que sigue inmediatamente a la llamada. Una instrucción return puede devolver un valor a la función de llamada."
      ]
    },
    {
      "cell_type": "code",
      "execution_count": 37,
      "metadata": {
        "colab": {
          "base_uri": "https://localhost:8080/"
        },
        "id": "TZlxgXq72S7P",
        "outputId": "a945ddb5-c2aa-4f7e-8017-46e260d2cdb4"
      },
      "outputs": [
        {
          "output_type": "stream",
          "name": "stdout",
          "text": [
            "Ingrese los datos5\n",
            "Ingrese los datos7\n",
            "Ingrese los datos2\n",
            "Ingrese los datos1\n",
            "Datos: 5 7 2 1\n",
            "Media: 3.75\n",
            "Desviación típica: 2.384848003542364\n",
            "Programa terminado\n"
          ]
        }
      ],
      "source": [
        "def calcula_desviacion_media(*args):\n",
        "    total = 0\n",
        "    for i in args:\n",
        "        total += i\n",
        "    media = total / len(args)\n",
        "    total = 0\n",
        "    for i in args:\n",
        "        total += (i - media) ** 2\n",
        "    desviacion = (total / len(args)) ** 0.5\n",
        "    return media, desviacion\n",
        "\n",
        "a, b, c, d = int(input(\"Ingrese los datos\")), int(input(\"Ingrese los datos\")), int(input(\"Ingrese los datos\")), int(input(\"Ingrese los datos\"))\n",
        "media, desviacion_tipica = calcula_desviacion_media(a, b, c, d)\n",
        "print(f\"Datos: {a} {b} {c} {d}\")\n",
        "print(f\"Media: {media}\")\n",
        "print(f\"Desviación típica: {desviacion_tipica}\")\n",
        "print(\"Programa terminado\")"
      ]
    },
    {
      "cell_type": "markdown",
      "metadata": {
        "id": "uMqguqdl3JKL"
      },
      "source": [
        "##Try: Es el bloque con las sentencias que quieres ejecutar. Sin embargo, podrían llegar a haber errores de ejecución y el bloque se dejará de ejecutarse. El bloque except se ejecutará cuando el bloque try falle debido a un error."
      ]
    },
    {
      "cell_type": "code",
      "execution_count": null,
      "metadata": {
        "id": "RGEfBp6D3Mj9"
      },
      "outputs": [],
      "source": [
        "print (\"Introduce enteros, cada uno seguido de un Intro; o sólo Intro para finalizar\")\n",
        "total = 0\n",
        "contador = 0\n",
        "while True:\n",
        "\tlinea = input(\"Entero: \")\n",
        "\tif linea:\n",
        "\t\ttry:\n",
        "\t\t\tnumero = int(linea)\n",
        "\t\texcept ValueError as err:\n",
        "\t\t\tprint(err)\n",
        "\t\t\tcontinue\n",
        "\t\ttotal += numero\n",
        "\t\tcontador +=1\n",
        "\telse:\n",
        "\t\tbreak\n",
        "\n",
        "if contador:\n",
        "\tprint(\" contador = \", contador, \"total = \", total, \"media = \", total/contador) "
      ]
    },
    {
      "cell_type": "markdown",
      "metadata": {
        "id": "qXX8Ax_z3aXb"
      },
      "source": [
        "##While: Se usa para repetir sobre un bloque de código siempre que la expresión de prueba (condición) sea verdadera. Generalmente usamos este ciclo cuando no sabemos la cantidad de veces que toca repetir de antemano."
      ]
    },
    {
      "cell_type": "code",
      "execution_count": 31,
      "metadata": {
        "colab": {
          "base_uri": "https://localhost:8080/"
        },
        "id": "m4610SXW3dgR",
        "outputId": "bee61434-3228-43c2-b92c-14471f717c8e"
      },
      "outputs": [
        {
          "output_type": "stream",
          "name": "stdout",
          "text": [
            "ingrese un número para saber si es o no primo: 82\n",
            "0\n",
            "0\n",
            "1\n",
            "2\n",
            "2\n",
            "4\n",
            "5\n",
            "2\n",
            "1\n",
            "2\n",
            "5\n",
            "10\n",
            "4\n",
            "12\n",
            "7\n",
            "2\n",
            "14\n",
            "10\n",
            "6\n",
            "2\n",
            "19\n",
            "16\n",
            "13\n",
            "10\n",
            "7\n",
            "4\n",
            "1\n",
            "26\n",
            "24\n",
            "22\n",
            "20\n",
            "18\n",
            "16\n",
            "14\n",
            "12\n",
            "10\n",
            "8\n",
            "6\n",
            "4\n",
            "2\n",
            "0\n",
            "40\n",
            "39\n",
            "38\n",
            "37\n",
            "36\n",
            "35\n",
            "34\n",
            "33\n",
            "32\n",
            "31\n",
            "30\n",
            "29\n",
            "28\n",
            "27\n",
            "26\n",
            "25\n",
            "24\n",
            "23\n",
            "22\n",
            "21\n",
            "20\n",
            "19\n",
            "18\n",
            "17\n",
            "16\n",
            "15\n",
            "14\n",
            "13\n",
            "12\n",
            "11\n",
            "10\n",
            "9\n",
            "8\n",
            "7\n",
            "6\n",
            "5\n",
            "4\n",
            "3\n",
            "2\n",
            "1\n",
            "0\n",
            "no es primo\n"
          ]
        }
      ],
      "source": [
        "n=(int(input(\"ingrese un número para saber si es o no primo: \")))\n",
        "contador=0\n",
        "i=-1\n",
        "while i<(n-1):\n",
        "  i=i+1\n",
        "  divisor= i+1\n",
        "  division= n%divisor\n",
        "  print(division)\n",
        "  if division==0:\n",
        "    contador=contador+1\n",
        "\n",
        "  \n",
        "  \n",
        "  \n",
        "  \n",
        "  \n",
        "if contador<=2:\n",
        "  print(\"El número es primo\")\n",
        "else:\n",
        "  print(\"no es primo\")"
      ]
    },
    {
      "cell_type": "markdown",
      "metadata": {
        "id": "mFM3T7Bm3ugu"
      },
      "source": [
        "##Whith: Se usa para ajustar la ejecución de un bloque con métodos definidos por un administrador de contexto, básicamente se establece con una configuración inicial y una finalización para recuperar los valores anteriores"
      ]
    },
    {
      "cell_type": "code",
      "execution_count": 39,
      "metadata": {
        "id": "YGLSP0pj4Cxp",
        "colab": {
          "base_uri": "https://localhost:8080/",
          "height": 235
        },
        "outputId": "9b560ef1-5dd9-4cbf-f818-02d68c3151bd"
      },
      "outputs": [
        {
          "output_type": "error",
          "ename": "AttributeError",
          "evalue": "ignored",
          "traceback": [
            "\u001b[0;31m---------------------------------------------------------------------------\u001b[0m",
            "\u001b[0;31mAttributeError\u001b[0m                            Traceback (most recent call last)",
            "\u001b[0;32m<ipython-input-39-1eb88bd8f20c>\u001b[0m in \u001b[0;36m<module>\u001b[0;34m\u001b[0m\n\u001b[1;32m      8\u001b[0m     \u001b[0mf\u001b[0m\u001b[0;34m.\u001b[0m\u001b[0mclose\u001b[0m\u001b[0;34m(\u001b[0m\u001b[0;34m)\u001b[0m\u001b[0;34m\u001b[0m\u001b[0;34m\u001b[0m\u001b[0m\n\u001b[1;32m      9\u001b[0m \u001b[0;34m\u001b[0m\u001b[0m\n\u001b[0;32m---> 10\u001b[0;31m \u001b[0;32mwith\u001b[0m \u001b[0mmanaged_file\u001b[0m\u001b[0;34m(\u001b[0m\u001b[0;34m\"Hola.txt\"\u001b[0m\u001b[0;34m)\u001b[0m \u001b[0;32mas\u001b[0m \u001b[0mf\u001b[0m\u001b[0;34m:\u001b[0m\u001b[0;34m\u001b[0m\u001b[0;34m\u001b[0m\u001b[0m\n\u001b[0m\u001b[1;32m     11\u001b[0m   \u001b[0mf\u001b[0m\u001b[0;34m.\u001b[0m\u001b[0mwrite\u001b[0m\u001b[0;34m(\u001b[0m\u001b[0;34m\"Hola, world\"\u001b[0m\u001b[0;34m)\u001b[0m\u001b[0;34m\u001b[0m\u001b[0;34m\u001b[0m\u001b[0m\n\u001b[1;32m     12\u001b[0m   \u001b[0mf\u001b[0m\u001b[0;34m.\u001b[0m\u001b[0mwrite\u001b[0m\u001b[0;34m(\u001b[0m\u001b[0;34m\"Bye\"\u001b[0m\u001b[0;34m)\u001b[0m\u001b[0;34m\u001b[0m\u001b[0;34m\u001b[0m\u001b[0m\n",
            "\u001b[0;31mAttributeError\u001b[0m: __enter__"
          ]
        }
      ],
      "source": [
        "from contextlib import contextmanager\n",
        "\n",
        "def managed_file(name):\n",
        "  try:\n",
        "    f=open(name,\"w\")\n",
        "    yield f\n",
        "  finally:\n",
        "    f.close()\n",
        "\n",
        "with managed_file(\"Hola.txt\") as f:\n",
        "  f.write(\"Hola, world\")\n",
        "  f.write(\"Bye\")"
      ]
    },
    {
      "cell_type": "markdown",
      "metadata": {
        "id": "tJooCeRe6Tcn"
      },
      "source": [
        "##Yield: Es una palabra clave en Python que se usa para regresar de una función sin destruir los estados de su variable local y cuando se llama a la función, la ejecución comienza desde la última declaración de rendimiento. Cualquier función que contenga una palabra clave de rendimiento se denomina generador. Por lo tanto, el rendimiento es lo que hace que un generador."
      ]
    },
    {
      "cell_type": "code",
      "execution_count": 38,
      "metadata": {
        "id": "qDjnB9ts6deY",
        "colab": {
          "base_uri": "https://localhost:8080/"
        },
        "outputId": "f0bfb588-4c74-4821-e399-de3cbb285ba5"
      },
      "outputs": [
        {
          "output_type": "stream",
          "name": "stdout",
          "text": [
            "Instanciando contador\n",
            "Contador instanciado\n",
            "=Dentro de contador - empezando\n",
            "=Dentro de contador - viene yield con n=0\n",
            "valor leido del iterador=0\n",
            "=Dentro de contador - retomando después de yield\n",
            "=Dentro de contador - viene yield con n=1\n",
            "valor leido del iterador=1\n",
            "=Dentro de contador - retomando después de yield\n",
            "=Dentro de contador - viene yield con n=2\n",
            "valor leido del iterador=2\n",
            "=Dentro de contador - retomando después de yield\n",
            "=Dentro de contador - terminando\n",
            "Listo\n"
          ]
        }
      ],
      "source": [
        "def contador(max):\n",
        "    print(\"=Dentro de contador - empezando\")\n",
        "    n=0\n",
        "    while n < max:\n",
        "        print(f\"=Dentro de contador - viene yield con n={n}\")\n",
        "        yield n\n",
        "        print(\"=Dentro de contador - retomando después de yield\")\n",
        "        n=n+1\n",
        "    print(\"=Dentro de contador - terminando\")\n",
        "\n",
        "print(\"Instanciando contador\") \n",
        "mycont = contador(3)\n",
        "print(\"Contador instanciado\") \n",
        "\n",
        "for i in mycont:\n",
        "    print(f\"valor leido del iterador={i}\") \n",
        "print(\"Listo\")"
      ]
    }
  ],
  "metadata": {
    "colab": {
      "collapsed_sections": [],
      "provenance": []
    },
    "kernelspec": {
      "display_name": "Python 3",
      "name": "python3"
    },
    "language_info": {
      "name": "python"
    }
  },
  "nbformat": 4,
  "nbformat_minor": 0
}
