{
  "nbformat": 4,
  "nbformat_minor": 0,
  "metadata": {
    "colab": {
      "name": "Taller.ipynb",
      "provenance": []
    },
    "kernelspec": {
      "name": "python3",
      "display_name": "Python 3"
    },
    "language_info": {
      "name": "python"
    }
  },
  "cells": [
    {
      "cell_type": "markdown",
      "source": [
        "#Taller"
      ],
      "metadata": {
        "id": "_2KffIesyqyr"
      }
    },
    {
      "cell_type": "markdown",
      "source": [
        "##Ejercicio 1"
      ],
      "metadata": {
        "id": "m-kt7NsA3TMT"
      }
    },
    {
      "cell_type": "code",
      "execution_count": 8,
      "metadata": {
        "colab": {
          "base_uri": "https://localhost:8080/"
        },
        "id": "hic-atTKynBV",
        "outputId": "f2d387c6-8e39-4f21-898a-d77d55220d0b"
      },
      "outputs": [
        {
          "output_type": "stream",
          "name": "stdout",
          "text": [
            "Este programa pide dos numeros para proceder a dividirlos\n",
            "Ingrese el dividendo: 20\n",
            "Ingrese el divisor: 3\n",
            "La division es:  6.666666666666667\n",
            "El residuo de la operacion es:  2\n"
          ]
        }
      ],
      "source": [
        "print(\"Este programa pide dos numeros para proceder a dividirlos\")\n",
        "a=int(input(\"Ingrese el dividendo: \"))\n",
        "b=int(input(\"Ingrese el divisor: \"))\n",
        "resudio=0\n",
        "if b==0:\n",
        "  print(\"La division por cero es indeterminada vuelva a ejecutar el programa\")\n",
        "\n",
        "else:\n",
        "  division= a/b\n",
        "  \n",
        "  if a%b != 0:\n",
        "   residuo=a%b\n",
        "   print(\"La division posee residuos\")\n",
        "   print(\"La division es: \",division)\n",
        "   print(\"El residuo de la operacion es: \",residuo)\n",
        "  else:\n",
        "    print(\"La division no posee residuos\")\n",
        "    print(\"La division exacta es: \",division)\n",
        "  \n",
        "\n"
      ]
    },
    {
      "cell_type": "markdown",
      "source": [
        "##Ejercicio 2\n"
      ],
      "metadata": {
        "id": "x8lz2RUD3EGc"
      }
    },
    {
      "cell_type": "code",
      "source": [
        "print(\"El siguiente programa reconoce si un numero es multiplo de otro\")\n",
        "a=int(input(\"Ingrese el primer número: \"))\n",
        "b=int(input(\"Ingrese el segundo número: \"))\n",
        "resudio=0\n",
        "if a%b==0:\n",
        "  print(\"El numero \",b,\" es múltiplo de: \",a)\n",
        "\n",
        "elif b%a==0:\n",
        "  print(\"El numero \",a,\" es múltiplo de: \",b)\n",
        "  \n",
        "else:\n",
        "  print(\"Los números no son multiplos el uno del otro\")"
      ],
      "metadata": {
        "id": "wl_qQSHW3LYB"
      },
      "execution_count": null,
      "outputs": []
    },
    {
      "cell_type": "markdown",
      "source": [
        "##Ejercicio 3"
      ],
      "metadata": {
        "id": "bSouQ6015BW2"
      }
    },
    {
      "cell_type": "code",
      "source": [
        "print(\"A continuacion ingrese las edades de 3 hermanos\")\n",
        "nhermano1=str(input(\"Ingrese el nombre del primer hermano\"))\n",
        "hermano1=int(input(\"Ingrese el año de nacimiento del primer hermano\"))\n",
        "nhermano2=str(input(\"Ingrese el nombre del segundo hermano\"))\n",
        "hermano2=int(input(\"Ingrese el año de nacimiento del segundo hermano\"))\n",
        "nhermano3=str(input(\"Ingrese el nombre del tercer hermano}\"))\n",
        "hermano3=int(input(\"Ingrese el año de nacimiento del tercer hermano\"))\n",
        "\n",
        "\n",
        "if hermano1<hermano2:\n",
        "  if hermano1<hermano3:\n",
        "    if hermano2<hermano3:\n",
        "      print(\"El mayor es \",nhermano1,\" seguido de \",nhermano2,\"siendo el menor\",nhermano3)\n",
        "\n",
        "    elif hermano3<hermano2:\n",
        "      print(\"El mayor es \",nhermano1,\" seguido de \",nhermano3,\"siendo el menor\",nhermano2)\n",
        "\n",
        "    else:\n",
        "      print(\"El mayor es \",nhermano1,\" y los hermanos \",nhermano2,\" y \",nhermano3,\" son mellizos\")\n",
        "\n",
        "\n",
        "  elif hermano3<hermano1:\n",
        "      print(\"El mayor es \",nhermano3,\" seguido de \",nhermano1,\"siendo el menor\",nhermano2)\n",
        "\n",
        "  else:\n",
        "      print(\"El menor es \",nhermano2,\" y los hermanos \",nhermano1,\" y \",nhermano3,\" son mellizos\")\n",
        "\n",
        "elif hermano2<hermano1:\n",
        "  if hermano2<hermano3:\n",
        "    if hermano1>hermano3:\n",
        "      print(\"El mayor es \",nhermano2,\" seguido de \",nhermano1,\"siendo el menor\",nhermano3)\n",
        "\n",
        "    elif hermano3<hermano1:\n",
        "      print(\"El mayor es \",nhermano2,\" seguido de \",nhermano3,\"siendo el menor\",nhermano1)\n",
        "\n",
        "    else:\n",
        "      print(\"El mayor es \",nhermano2,\" y los hermanos \",nhermano1,\" y \",nhermano3,\" son mellizos\")\n",
        "\n",
        "  elif hermano3<hermano2:\n",
        "      print(\"El mayor es \",nhermano3,\" seguido de \",nhermano2,\"siendo el menor\",nhermano1)\n",
        "\n",
        "  else:\n",
        "      print(\"El menor es \",nhermano1,\" y los hermanos \",nhermano2,\" y \",nhermano3,\" son mellizos\")\n",
        "\n",
        "else:\n",
        "  if hermano3<hermano1:\n",
        "    print(\"El mayor es \",nhermano3,\" y los hermanos \",nhermano2,\" y \",nhermano1,\" son mellizos\")\n",
        "  elif hermano1<hermano3:\n",
        "    print(\"El menor es \",nhermano3,\" y los hermanos \",nhermano2,\" y \",nhermano1,\" son mellizos\")\n",
        "  else:\n",
        "    print(nhermano1,\", \",nhermano2,\" y \",nhermano3,\" son trillizos\")\n",
        "\n",
        "\n",
        "\n",
        "    \n",
        "  "
      ],
      "metadata": {
        "id": "KaH6v_xa5EHO"
      },
      "execution_count": null,
      "outputs": []
    },
    {
      "cell_type": "markdown",
      "source": [
        "##Ejercicio 19\n"
      ],
      "metadata": {
        "id": "tBy_-BS6HmTX"
      }
    },
    {
      "cell_type": "code",
      "source": [
        "palabra = input(\"Ingrese la palabra: \")\n",
        "if str(palabra) == \"\".join(reversed(palabra)) :\n",
        "    print(list(reversed(palabra)))\n",
        "    print(\"La palabra es palindromo\")\n",
        "else:\n",
        "    print(list(reversed(palabra)))\n",
        "    print(\"La palabra no es un palindromo\")"
      ],
      "metadata": {
        "id": "vgwbvWtFHrG2"
      },
      "execution_count": null,
      "outputs": []
    },
    {
      "cell_type": "markdown",
      "source": [
        "##Ejercicio **20**"
      ],
      "metadata": {
        "id": "E6-3QoAnDfcK"
      }
    },
    {
      "cell_type": "code",
      "source": [
        "numero = input(\"Ingrese un número: \")\n",
        "if str(numero) == \"\".join(reversed(numero)) :\n",
        "    print(list(reversed(numero)))\n",
        "    print(\"El número es un palindromo\")\n",
        "else:\n",
        "    print(list(reversed(numero)))\n",
        "    print(\"El número no es un palindromo\")"
      ],
      "metadata": {
        "id": "zj8CyQckDhqa"
      },
      "execution_count": null,
      "outputs": []
    },
    {
      "cell_type": "markdown",
      "source": [
        "##Ejercicio 16"
      ],
      "metadata": {
        "id": "g61d4qVzJcgT"
      }
    },
    {
      "cell_type": "code",
      "source": [
        "print(\"A continuación se deben inresar el nombre de dos usuarios\")\n",
        "user1=input(\"Ingrese el nombre del usuario 1\")\n",
        "user2=input(\"Ingrese el nombre del usuario 2\")\n",
        "\n",
        "if user1[0:1]==user2[0:1]:\n",
        "  print(\"Coincidencia en las iniciales\")\n",
        "\n",
        "else:\n",
        "  print(\"No hay coincidencia\")\n"
      ],
      "metadata": {
        "id": "T7InX8lwJmNB"
      },
      "execution_count": null,
      "outputs": []
    },
    {
      "cell_type": "markdown",
      "source": [
        "##Ejercicio 15\n"
      ],
      "metadata": {
        "id": "fRqkZ1l8KpYi"
      }
    },
    {
      "cell_type": "code",
      "source": [
        "a=float(input(\"Ingrese un número\"))\n",
        "if a>0:\n",
        "  print(\"Su valor absoluto es:\", a)\n",
        "else:\n",
        "  print(\"Su valor absoluto es:\", -a)"
      ],
      "metadata": {
        "colab": {
          "base_uri": "https://localhost:8080/"
        },
        "id": "MoTukxA6KsnS",
        "outputId": "0bc4e0ee-cd33-4809-ef8e-b8c550d4c4e1"
      },
      "execution_count": 36,
      "outputs": [
        {
          "output_type": "stream",
          "name": "stdout",
          "text": [
            "Ingrese un número-5\n",
            "Su valor absoluto es: 5.0\n"
          ]
        }
      ]
    }
  ]
}