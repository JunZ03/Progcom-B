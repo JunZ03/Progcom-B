{
  "nbformat": 4,
  "nbformat_minor": 0,
  "metadata": {
    "colab": {
      "provenance": [],
      "collapsed_sections": []
    },
    "kernelspec": {
      "name": "python3",
      "display_name": "Python 3"
    },
    "language_info": {
      "name": "python"
    }
  },
  "cells": [
    {
      "cell_type": "markdown",
      "source": [
        "#SECUENCIA DE DATOS\n"
      ],
      "metadata": {
        "id": "SHcbrJhhNGOk"
      }
    },
    {
      "cell_type": "markdown",
      "source": [
        "##LISTAS\n",
        "También conocidas como vectores o arrays.\n",
        "Es una variable que, en lugar de contener un valor, contiene una secuencia ordenada de estos, a los que se puede acceder por su posición o por su índice.\n",
        "Se declaran indicando sus elementos, separados por comas, entre corchetes []"
      ],
      "metadata": {
        "id": "325LVBzsM0x7"
      }
    },
    {
      "cell_type": "code",
      "execution_count": 1,
      "metadata": {
        "colab": {
          "base_uri": "https://localhost:8080/"
        },
        "id": "23GjaB68MkIG",
        "outputId": "912d0d74-ccfa-4bdf-bd11-3e73c1de72bd"
      },
      "outputs": [
        {
          "output_type": "execute_result",
          "data": {
            "text/plain": [
              "['primero', 'segundo', 'tercero', 'cuarto']"
            ]
          },
          "metadata": {},
          "execution_count": 1
        }
      ],
      "source": [
        "lista=[\"primero\",\"segundo\", \"tercero\", \"cuarto\"]\n",
        "lista"
      ]
    },
    {
      "cell_type": "markdown",
      "source": [
        "###Accediendo a los elementos de la lista"
      ],
      "metadata": {
        "id": "yPn3XFg4PWpt"
      }
    },
    {
      "cell_type": "code",
      "source": [
        "#Accediendo a la lista por posición\n",
        "lista[0]"
      ],
      "metadata": {
        "colab": {
          "base_uri": "https://localhost:8080/",
          "height": 36
        },
        "id": "-63XOgdXOzdR",
        "outputId": "7f06a027-7a82-4010-ecd1-baba488bea01"
      },
      "execution_count": null,
      "outputs": [
        {
          "output_type": "execute_result",
          "data": {
            "text/plain": [
              "'primero'"
            ],
            "application/vnd.google.colaboratory.intrinsic+json": {
              "type": "string"
            }
          },
          "metadata": {},
          "execution_count": 2
        }
      ]
    },
    {
      "cell_type": "code",
      "source": [
        "#Accediendo a todos los elementos de la lista empleando el slicing\n",
        "lista[:]"
      ],
      "metadata": {
        "colab": {
          "base_uri": "https://localhost:8080/"
        },
        "id": "cadWYF2xSW8L",
        "outputId": "303d3d4c-c718-4f56-8e3c-4af0af03488d"
      },
      "execution_count": 2,
      "outputs": [
        {
          "output_type": "execute_result",
          "data": {
            "text/plain": [
              "['primero', 'segundo', 'tercero', 'cuarto']"
            ]
          },
          "metadata": {},
          "execution_count": 2
        }
      ]
    },
    {
      "cell_type": "code",
      "source": [
        "#Accediendo a los dos primeros elementos de la lista\n",
        "lista[0:2]"
      ],
      "metadata": {
        "colab": {
          "base_uri": "https://localhost:8080/"
        },
        "id": "XsDQpQKISYiL",
        "outputId": "eb5b2965-4b10-44dd-dcb3-ffbccafd99dc"
      },
      "execution_count": 3,
      "outputs": [
        {
          "output_type": "execute_result",
          "data": {
            "text/plain": [
              "['primero', 'segundo']"
            ]
          },
          "metadata": {},
          "execution_count": 3
        }
      ]
    },
    {
      "cell_type": "code",
      "source": [
        "#Existe alguna otra manera de imprimir los dos primeros elementos de la lista? Coloque la línea de código que hace esto.\n"
      ],
      "metadata": {
        "id": "miawsux8S7BD"
      },
      "execution_count": null,
      "outputs": []
    },
    {
      "cell_type": "code",
      "source": [
        "#Accediendo a los dos últimos elementos de la lista\n",
        "lista[2:4]"
      ],
      "metadata": {
        "colab": {
          "base_uri": "https://localhost:8080/"
        },
        "id": "RNcXanPzTB7u",
        "outputId": "bdc54a73-bf98-4ddf-aec7-65e04e9e9a4b"
      },
      "execution_count": null,
      "outputs": [
        {
          "output_type": "execute_result",
          "data": {
            "text/plain": [
              "['tercero', 'cuarto']"
            ]
          },
          "metadata": {},
          "execution_count": 9
        }
      ]
    },
    {
      "cell_type": "markdown",
      "source": [
        "#####Al usar índices negativos los elementos empiezan a contar del último al primero siendo el -1 el ultimo elemento de la lista, es decir, empieza a moverse desde el final hasta el inicio usando los negativos."
      ],
      "metadata": {
        "id": "GlGClS-yWVu7"
      }
    },
    {
      "cell_type": "code",
      "source": [
        "#Qué pasará cuando se usa un índice negativo? Ejemplo: lista[-4], lista[-3]\n",
        "\n",
        "print(lista[-3])\n",
        "lista[-4]"
      ],
      "metadata": {
        "id": "_0cx4i7CVF_6",
        "colab": {
          "base_uri": "https://localhost:8080/",
          "height": 53
        },
        "outputId": "122eaff7-0074-4b2e-de76-9eddc3354b61"
      },
      "execution_count": 18,
      "outputs": [
        {
          "output_type": "stream",
          "name": "stdout",
          "text": [
            "segundo\n"
          ]
        },
        {
          "output_type": "execute_result",
          "data": {
            "text/plain": [
              "'primero'"
            ],
            "application/vnd.google.colaboratory.intrinsic+json": {
              "type": "string"
            }
          },
          "metadata": {},
          "execution_count": 18
        }
      ]
    },
    {
      "cell_type": "code",
      "source": [
        "#Existe otra forma para acceder a los dos últimos elementos de la lista?. Coloque la línea de código que hace esto.\n",
        "print(lista[-1:-3:-1])\n",
        "print(lista[2:])"
      ],
      "metadata": {
        "id": "Eg2ZIr5DTnFJ",
        "colab": {
          "base_uri": "https://localhost:8080/"
        },
        "outputId": "b40adaa4-7336-4072-bab3-3499e0c9601b"
      },
      "execution_count": 25,
      "outputs": [
        {
          "output_type": "stream",
          "name": "stdout",
          "text": [
            "['cuarto', 'tercero']\n",
            "['tercero', 'cuarto']\n"
          ]
        }
      ]
    },
    {
      "cell_type": "code",
      "source": [
        "\n",
        "#Cómo podría saberse la posición de la lista que ocupa un elemento? \n",
        "#Escriba el código que permita ingresar un elemento de la lista, e imprima la posición del elemento de la lista\n",
        "#Puede saberse con la keyword llamada index y y se asocia con el código lista.index() y dentro del paréntesis se coloca el elemento que está presente a la lista asociada con index.\n",
        "print(lista[:])\n",
        "n=str(input(\"Ingrese un elemento de la lista antes presentada lara indicar la ubicación del elelemento\"))\n",
        "print(lista.index(n))"
      ],
      "metadata": {
        "id": "AFYUJpJCQG9p",
        "colab": {
          "base_uri": "https://localhost:8080/"
        },
        "outputId": "439217b0-e84e-4e50-df2a-ac5c9dbb482b"
      },
      "execution_count": 29,
      "outputs": [
        {
          "output_type": "stream",
          "name": "stdout",
          "text": [
            "['primero', 'segundo', 'tercero', 'cuarto']\n",
            "Ingrese un elemento de la lista antes presentada lara indicar la ubicación del elelementocuarto\n",
            "3\n"
          ]
        }
      ]
    },
    {
      "cell_type": "markdown",
      "source": [
        "###Operaciones con las listas"
      ],
      "metadata": {
        "id": "OPiv0fe4R8__"
      }
    },
    {
      "cell_type": "code",
      "source": [
        "#Crear una lista vacía\n",
        "ejemplo=[]\n",
        "noelementos=[]\n",
        "print(noelementos)"
      ],
      "metadata": {
        "id": "sgr461D-SAqe",
        "colab": {
          "base_uri": "https://localhost:8080/"
        },
        "outputId": "62a6c647-be8c-47c9-ffff-714e45c4aef2"
      },
      "execution_count": 67,
      "outputs": [
        {
          "output_type": "stream",
          "name": "stdout",
          "text": [
            "[]\n"
          ]
        }
      ]
    },
    {
      "cell_type": "code",
      "source": [
        "#Cómo se podría crear una matriz? Ingrese el código que permita generar una matriz 3x2, siendo la primera fila \"Nombre\", \"Peso\", \"Altura\"\n",
        "#y diligencie la segunda fila con números\n",
        "#Llame a esa matriz calculo_IMC\n",
        "#Debe imprimir \n",
        "#Nombre  Peso[kg] Altura[m]\n",
        "#\"Sofía\"    57      1.65 \n",
        "Listado = [[\"Nombre\",\"Peso[kg]\",\"Altura[m]\"], \n",
        "          [\"Sofía\",57,1.65]]\n",
        "\n",
        "Listado[:]\n",
        "listado_length = len(Listado)\n",
        "\n",
        "#To print the rows in the Matrix\n",
        "for i in range(listado_length):\n",
        "    print(Listado[i])\n"
      ],
      "metadata": {
        "id": "NnNEsFRbaUul",
        "colab": {
          "base_uri": "https://localhost:8080/"
        },
        "outputId": "d43244e3-b1af-47db-cf05-9b211f448541"
      },
      "execution_count": 35,
      "outputs": [
        {
          "output_type": "stream",
          "name": "stdout",
          "text": [
            "['Nombre', 'Peso[kg]', 'Altura[m]']\n",
            "['Sofía', 57, 1.65]\n"
          ]
        }
      ]
    },
    {
      "cell_type": "code",
      "source": [
        "#Genere una cuarta columna para la matriz IMC, que tenga como nombre IMC y calcule el índice de masa corporal. Esto es:\n",
        "#Nombre  Peso[kg] Altura[m]  IMC\n",
        "#\"Sofía\"    57      1.65     (agrege aquí el resultado del cálculo)\n",
        "altura=1.65\n",
        "peso=57\n",
        "u=peso/(altura*altura)\n",
        "Listado = [[\"Nombre\",\"Peso[kg]\",\"Altura[m]\",\"IMC\"], \n",
        "          [\"Sofía\",peso,altura,u]]\n",
        "\n",
        "Listado[:]\n",
        "listado_length = len(Listado)\n",
        "\n",
        "#To print the rows in the Matrix\n",
        "for i in range(listado_length):\n",
        "    print(Listado[i])\n",
        "\n",
        "\n"
      ],
      "metadata": {
        "id": "UZ_ueaXJdJsT",
        "colab": {
          "base_uri": "https://localhost:8080/"
        },
        "outputId": "9eb48b21-7508-43f3-c610-fec5dc508e5e"
      },
      "execution_count": 36,
      "outputs": [
        {
          "output_type": "stream",
          "name": "stdout",
          "text": [
            "['Nombre', 'Peso[kg]', 'Altura[m]', 'IMC']\n",
            "['Sofía', 57, 1.65, 20.936639118457304]\n"
          ]
        }
      ]
    },
    {
      "cell_type": "code",
      "source": [
        "#Genere una quinta columna en la matriz calculo_IMC que emita una descripción obtenida del IMC. Esto es:\n",
        "#Nombre  Peso[kg] Altura[m]  IMC        Descripción\n",
        "#\"Sofía\"    57      1.65     (calculo)  (Dependiendo del IMC debe registrar peso normal, sobrepeso, obesidad tipo I, obesidad tipo II... etc.\n",
        "\n",
        "altura=1.65\n",
        "peso=57\n",
        "u=peso/(altura*altura)\n",
        "Listado = [[\"Nombre\",\"Peso[kg]\",\"Altura[m]\",\"IMC\",\"Descripción\"], \n",
        "          [\"Sofía\",peso,altura,u,\"Peso Normal\"]]\n",
        "\n",
        "Listado[:]\n",
        "listado_length = len(Listado)\n",
        "\n",
        "#To print the rows in the Matrix\n",
        "for i in range(listado_length):\n",
        "    print(Listado[i])\n",
        "\n"
      ],
      "metadata": {
        "id": "cgQqg0YJffSH",
        "colab": {
          "base_uri": "https://localhost:8080/"
        },
        "outputId": "763b70ac-a5f4-416d-e58b-9964bd7c0156"
      },
      "execution_count": 38,
      "outputs": [
        {
          "output_type": "stream",
          "name": "stdout",
          "text": [
            "['Nombre', 'Peso[kg]', 'Altura[m]', 'IMC', 'Descripción']\n",
            "['Sofía', 57, 1.65, 20.936639118457304, 'Peso Normal']\n"
          ]
        }
      ]
    },
    {
      "cell_type": "code",
      "source": [
        "#Conocer el tamaño del vector\n",
        "print(len(lista))\n",
        "print(len(Listado))\n",
        "print(len(ejemplo))"
      ],
      "metadata": {
        "colab": {
          "base_uri": "https://localhost:8080/"
        },
        "id": "KZ5QnAzbaH_v",
        "outputId": "2487ffeb-ea12-4d7c-c8ff-634a18734629"
      },
      "execution_count": 53,
      "outputs": [
        {
          "output_type": "stream",
          "name": "stdout",
          "text": [
            "4\n",
            "2\n",
            "1\n"
          ]
        }
      ]
    },
    {
      "cell_type": "code",
      "source": [
        "#Llenar una lista vacía\n",
        "ejemplo.append(\"Hola\")\n",
        "ejemplo[:]"
      ],
      "metadata": {
        "id": "JsgmYIkuSVFj",
        "colab": {
          "base_uri": "https://localhost:8080/"
        },
        "outputId": "c652001e-fa6b-453f-a629-2b1041acda3e"
      },
      "execution_count": 68,
      "outputs": [
        {
          "output_type": "execute_result",
          "data": {
            "text/plain": [
              "['Hola']"
            ]
          },
          "metadata": {},
          "execution_count": 68
        }
      ]
    },
    {
      "cell_type": "code",
      "source": [
        "#Una lista puede tener diferente tipo de datos!!\n",
        "ejemplo=[\"banana\",\"sandía\", 4, 5, False]\n",
        "ejemplo\n",
        "#Qué pasó con el elemento \"Hola\"?\n",
        "#El hola fue eliminado porque se volivó definir el contenido dentro de la lista llamada ejemplo, hacer eso cambia el contenido, por eso el hola ya no se encuentra dentro de la lista"
      ],
      "metadata": {
        "colab": {
          "base_uri": "https://localhost:8080/"
        },
        "id": "q6LTGURtY_RM",
        "outputId": "10aaa1a6-4b5e-4e1e-bb90-2b79adad4ce0"
      },
      "execution_count": 79,
      "outputs": [
        {
          "output_type": "execute_result",
          "data": {
            "text/plain": [
              "['banana', 'sandía', 4, 5, False]"
            ]
          },
          "metadata": {},
          "execution_count": 79
        }
      ]
    },
    {
      "cell_type": "code",
      "source": [
        "#Eliminar un elemento de la lista\n",
        "ejemplo.remove(4)\n",
        "ejemplo"
      ],
      "metadata": {
        "colab": {
          "base_uri": "https://localhost:8080/"
        },
        "id": "p_o0X4fKZw0k",
        "outputId": "d642f670-7def-4b4f-c75f-14f248e33e0c"
      },
      "execution_count": 74,
      "outputs": [
        {
          "output_type": "execute_result",
          "data": {
            "text/plain": [
              "['banana', 'sandía', 5, False]"
            ]
          },
          "metadata": {},
          "execution_count": 74
        }
      ]
    },
    {
      "cell_type": "code",
      "source": [
        "#Podría explicar el error generado?\n",
        "#El error en el siguiente se genera porque el programa intenta eliminar un elemento que ya fue eliminado previamente en la límea de código anterior\n",
        "ejemplo.remove(4)"
      ],
      "metadata": {
        "colab": {
          "base_uri": "https://localhost:8080/",
          "height": 183
        },
        "id": "ODz7MJvbbh8e",
        "outputId": "c8547c4a-5f7d-48a3-c0be-ada353dff343"
      },
      "execution_count": 75,
      "outputs": [
        {
          "output_type": "error",
          "ename": "ValueError",
          "evalue": "ignored",
          "traceback": [
            "\u001b[0;31m---------------------------------------------------------------------------\u001b[0m",
            "\u001b[0;31mValueError\u001b[0m                                Traceback (most recent call last)",
            "\u001b[0;32m<ipython-input-75-cc5e3be70b57>\u001b[0m in \u001b[0;36m<module>\u001b[0;34m\u001b[0m\n\u001b[1;32m      1\u001b[0m \u001b[0;31m#Podría explicar el error generado?\u001b[0m\u001b[0;34m\u001b[0m\u001b[0;34m\u001b[0m\u001b[0;34m\u001b[0m\u001b[0m\n\u001b[0;32m----> 2\u001b[0;31m \u001b[0mejemplo\u001b[0m\u001b[0;34m.\u001b[0m\u001b[0mremove\u001b[0m\u001b[0;34m(\u001b[0m\u001b[0;36m4\u001b[0m\u001b[0;34m)\u001b[0m\u001b[0;34m\u001b[0m\u001b[0;34m\u001b[0m\u001b[0m\n\u001b[0m",
            "\u001b[0;31mValueError\u001b[0m: list.remove(x): x not in list"
          ]
        }
      ]
    },
    {
      "cell_type": "code",
      "source": [
        "#Podría explicar el resultado de este método? \n",
        "#Elimina el segundo elemento presente en la lista y si se sigue ejecutando va a eliminar hasta que no haya un elemento en el segundo puesto\n",
        "del ejemplo[2]\n",
        "ejemplo"
      ],
      "metadata": {
        "colab": {
          "base_uri": "https://localhost:8080/",
          "height": 200
        },
        "id": "lhRUkQOEcWHu",
        "outputId": "e6199292-1af2-4158-9118-6b01ebc08a9b"
      },
      "execution_count": 83,
      "outputs": [
        {
          "output_type": "error",
          "ename": "IndexError",
          "evalue": "ignored",
          "traceback": [
            "\u001b[0;31m---------------------------------------------------------------------------\u001b[0m",
            "\u001b[0;31mIndexError\u001b[0m                                Traceback (most recent call last)",
            "\u001b[0;32m<ipython-input-83-93f5d3a93cc5>\u001b[0m in \u001b[0;36m<module>\u001b[0;34m\u001b[0m\n\u001b[1;32m      1\u001b[0m \u001b[0;31m#Podría explicar el resultado de este método?\u001b[0m\u001b[0;34m\u001b[0m\u001b[0;34m\u001b[0m\u001b[0;34m\u001b[0m\u001b[0m\n\u001b[0;32m----> 2\u001b[0;31m \u001b[0;32mdel\u001b[0m \u001b[0mejemplo\u001b[0m\u001b[0;34m[\u001b[0m\u001b[0;36m2\u001b[0m\u001b[0;34m]\u001b[0m\u001b[0;34m\u001b[0m\u001b[0;34m\u001b[0m\u001b[0m\n\u001b[0m\u001b[1;32m      3\u001b[0m \u001b[0mejemplo\u001b[0m\u001b[0;34m\u001b[0m\u001b[0;34m\u001b[0m\u001b[0m\n",
            "\u001b[0;31mIndexError\u001b[0m: list assignment index out of range"
          ]
        }
      ]
    },
    {
      "cell_type": "markdown",
      "source": [
        "### EJERCICIO PARA ELIMINAR UN QUEST OBLIGATORIO ☝\n",
        "\n",
        "![Texto alternativo](https://cdn.memegenerator.es/imagenes/memes/full/28/50/28507442.jpg)\n",
        "\n",
        "Realiza el ejercicio propuesto de forma correcta antes de que acabe el tiempo, y hazte acreedor@ de eliminar un quest obligatorio ✨"
      ],
      "metadata": {
        "id": "hmS_3bTvgCph"
      }
    },
    {
      "cell_type": "code",
      "source": [
        "# Revise la página https://www.researchgate.net/publication/273298847_Piedra_Papel_Tijera_y_sus_generalizaciones\n",
        "#Programe Piedra, papel, tijera, spock, lagarto, Papa y heavy usando arreglos.\n",
        "\n",
        "import random as altr\n",
        "opcioncpu=[\"piedra\",\"papel\",\"tijeras\",\"lagarto\",\"spock\"]\n",
        "revancha=0\n",
        "\n",
        "while revancha==0:\n",
        " aleatorio=altr.randint(0,4)\n",
        " eleccioncpu=opcioncpu[aleatorio]\n",
        " jugador=str(input(\"Bienvenido a piedra papel o tijeras, por favor escriba la opción que desea jugar: \"))\n",
        " jugador=jugador.lower()\n",
        " while jugador != \"piedra\" and jugador != \"papel\" and jugador != \"tijeras\" and jugador != \"lagarto\" and jugador != \"spock\" and jugador != \"papa\" and jugador != \"heavy\":\n",
        "     jugador=str(input(\"Ingreso de opción inválida, por favor vuelva a intentarlo: \"))\n",
        "     jugador=jugador.lower()\n",
        "    \n",
        " if eleccioncpu == \"piedra\":\n",
        "     if jugador == \"piedra\":\n",
        "        print(\"Empate.\")\n",
        "        revancha=0\n",
        "     elif jugador == \"papel\" or jugador == \"spock\":\n",
        "        print(\"La computadora eligió \",eleccioncpu,\" el jugador gana.\")\n",
        "        revancha=0\n",
        "     else:\n",
        "        print(\"La computadora eligió \",eleccioncpu,\" el jugador pierde, buena suerte para la próxima.\")\n",
        "        revancha=1\n",
        " elif eleccioncpu == \"papel\":\n",
        "     if jugador == \"papel\":\n",
        "        print(\"Empate.\")\n",
        "        revancha=0\n",
        "     elif jugador == \"tijeras\" or jugador == \"lagarto\":\n",
        "        print(\"La computadora eligió \",eleccioncpu,\" el jugador gana.\")\n",
        "        revancha=0\n",
        "     else:\n",
        "        print(\"La computadora eligió \",eleccioncpu,\" el jugador pierde, buena suerte para la próxima.\")\n",
        "        revancha=1\n",
        " elif eleccioncpu == \"tijeras\":\n",
        "     if jugador == \"tijeras\":\n",
        "        print(\"Empate.\")\n",
        "        revancha=0\n",
        "     elif jugador == \"piedra\" or jugador == \"spock\":\n",
        "        print(\"La computadora eligió \",eleccioncpu,\" el jugador gana.\")\n",
        "        revancha=0\n",
        "     else:\n",
        "        print(\"La computadora eligió \",eleccioncpu,\" el jugador pierde, buena suerte para la próxima.\")\n",
        "        revancha=1\n",
        " elif eleccioncpu == \"lagarto\":\n",
        "     if jugador == \"lagarto\":\n",
        "        print(\"Empate.\")\n",
        "        revancha=0\n",
        "     elif jugador == \"piedra\" or jugador == \"tijeras\":\n",
        "        print(\"La computadora eligió \",eleccioncpu,\" el jugador gana.\")\n",
        "        revancha=0\n",
        "     else:\n",
        "        print(\"La computadora eligió \",eleccioncpu,\" el jugador pierde, buena suerte para la próxima.\")\n",
        "        revancha=1\n",
        " elif eleccioncpu == \"spock\":\n",
        "     if jugador == \"spock\":\n",
        "        print(\"Empate.\")\n",
        "        revancha=0\n",
        "     elif jugador == \"lagarto\" or jugador == \"papel\":\n",
        "        print(\"La computadora eligió \",eleccioncpu,\" el jugador gana.\")\n",
        "        revancha=0\n",
        "     else:\n",
        "        print(\"La computadora eligió \",eleccioncpu,\" el jugador pierde, buena suerte para la próxima.\")\n",
        "        revancha=1"
      ],
      "metadata": {
        "id": "p0SGwGpNgBaz"
      },
      "execution_count": null,
      "outputs": []
    }
  ]
}