{
  "nbformat": 4,
  "nbformat_minor": 0,
  "metadata": {
    "colab": {
      "provenance": [],
      "collapsed_sections": []
    },
    "kernelspec": {
      "name": "python3",
      "display_name": "Python 3"
    },
    "language_info": {
      "name": "python"
    }
  },
  "cells": [
    {
      "cell_type": "code",
      "execution_count": null,
      "metadata": {
        "id": "bTjLVx2Xs8R4"
      },
      "outputs": [],
      "source": [
        "#Ejercicio 2\n",
        "print(\"Este programa solicita 2 números y verificará si uno es múltiplo de otro\")\n",
        "\n",
        "n1=int(input(\"Ingrese el primer número: \"))\n",
        "n2=int(input(\"Ingrese el segundo número: \"))\n",
        "rta=(n1%n2)\n",
        "RTA=\"Si es múltiplo\" if rta==0 else \"No es múltiplo\"\n",
        "print(RTA)"
      ]
    },
    {
      "cell_type": "code",
      "source": [],
      "metadata": {
        "id": "pXjiV4aWKl6Z"
      },
      "execution_count": null,
      "outputs": []
    },
    {
      "cell_type": "code",
      "source": [],
      "metadata": {
        "id": "Q2Ch-iQYKmAw"
      },
      "execution_count": null,
      "outputs": []
    },
    {
      "cell_type": "code",
      "source": [
        "#Ejercicio 8\n",
        "numero = int(input(\"Ingresa un numero\"))\n",
        "print(\"El numero es bisiesto\") if (numero%4==0 and numero%100!=0) else print(\"El numero no es bisiesto\")"
      ],
      "metadata": {
        "id": "kFybH6S1KmEi"
      },
      "execution_count": null,
      "outputs": []
    },
    {
      "cell_type": "code",
      "source": [
        "#Ejercicio 10\n",
        "print(\"El siguiente programa halla la pendiente de una funcion segun los datos ingresados\")\n",
        "n=float(input(\"Ingrese la primera posición  de x: \"))\n",
        "n2=float(input(\"Ingrese la primera posición  de y: \"))\n",
        "n3=float(input(\"Ingrese la segunda posición  de x: \"))\n",
        "n4=float(input(\"Ingrese la segunda posición  de y: \"))\n",
        "equis=n3-n\n",
        "n3=float(input(\"Ingrese una posción válida el segundo valor de x no puede ser igual al primero x: \")) if equis==0 else n3\n",
        "pendiente=(n4-n2)/(n3-n)\n",
        "\n",
        "print(pendiente)\n",
        "\n",
        "y=float(input(\"Ingrese la posición de y: \"))\n",
        "x=float(input(\"Ingrese la posición de y: \"))\n",
        "b=float(input(\"Ingrese el punto de corte con el eje y: \"))\n",
        "x=float(input(\"Ingrese una posción válida el segundo valor de x no admite 0: \")) if x==0 else n3\n",
        "pndt=(y-b)/x\n",
        "print(pndt)"
      ],
      "metadata": {
        "id": "LSuR1W7pU_lD"
      },
      "execution_count": null,
      "outputs": []
    },
    {
      "cell_type": "code",
      "source": [
        "#Ejercicio 13\n",
        "n=int(input(\"Ingrese el número\"))\n",
        "tipo=str(input(\"Ingrese el tipo de medida ingresada: \"))\n",
        "tipo2=str(input(\"Ingrese el tipo de medida al que desea cambiar: \"))\n",
        "tipo=tipo.lower()\n",
        "tipo2=tipo2.lower()\n",
        "dato=(n/100) if tipo==\"cm\" and tipo2== \"metros\" else dato\n",
        "dato=(n/100000) if tipo==\"cm\" and tipo2== \"km\" else dato\n",
        "dato=(n/1000) if tipo==\"metros\" and tipo2== \"km\" else dato\n",
        "dato=(100000*n) if tipo==\"km\" and tipo2== \"cm\" else dato\n",
        "dato=(1000*n) if tipo==\"km\" and tipo2== \"metros\" else dato\n",
        "print(\"Conversion: \",dato,tipo2)"
      ],
      "metadata": {
        "id": "nEg-ow_VR5b8"
      },
      "execution_count": null,
      "outputs": []
    },
    {
      "cell_type": "code",
      "source": [
        "#Ejercicio 16\n",
        "print(\"Ingresa 2 usuarios\") \n",
        "user1=input(\" usuario 1\") \n",
        "user2=input(\" usuario 2\")\n",
        "if user1[0:1]==user2[0:1]:print(\"Coincidencia\")  \n",
        "else:print(\"No hay coincidencia\")"
      ],
      "metadata": {
        "id": "d2VTHOLKPVoF",
        "colab": {
          "base_uri": "https://localhost:8080/"
        },
        "outputId": "eb536680-d3f1-4c62-ca65-bbd078ce3b64"
      },
      "execution_count": null,
      "outputs": [
        {
          "output_type": "stream",
          "name": "stdout",
          "text": [
            "Ingresa 2 usuarios\n",
            " usuario 1Maria\n",
            " usuario 2Martha\n",
            "Coincidencia\n"
          ]
        }
      ]
    },
    {
      "cell_type": "code",
      "source": [
        "#Ejercicio 19\n",
        "\n",
        "print(\"Este prgrama verificará si una palabra es palíndromo o no\")\n",
        "p=str(input(\"Ingrese una palabra: \"))\n",
        "p=p.upper()\n",
        "\n",
        "rta=\"Es un palíndromo\" if (p) == (p)[::-1] else \"No es un palíndromo\"\n",
        "print(rta)"
      ],
      "metadata": {
        "id": "ge8JnE7zRCDW"
      },
      "execution_count": null,
      "outputs": []
    },
    {
      "cell_type": "code",
      "source": [
        "#Ejercicio 20\n",
        "\n",
        "print(\"Este prgrama verificará si un número es palíndromo o no\")\n",
        "p=int(input(\"Ingrese el número: \"))\n",
        "\n",
        "rta=\"Es un palíndromo\" if  str(p) == str(p)[::-1] else \"No es un palíndromo\"\n",
        "print(rta)"
      ],
      "metadata": {
        "id": "erJyfp_zRL9u"
      },
      "execution_count": null,
      "outputs": []
    }
  ]
}