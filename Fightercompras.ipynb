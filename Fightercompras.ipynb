{
  "nbformat": 4,
  "nbformat_minor": 0,
  "metadata": {
    "colab": {
      "provenance": []
    },
    "kernelspec": {
      "name": "python3",
      "display_name": "Python 3"
    },
    "language_info": {
      "name": "python"
    }
  },
  "cells": [
    {
      "cell_type": "markdown",
      "source": [
        "#Diccionarios"
      ],
      "metadata": {
        "id": "NYJ2s5KJ2eQd"
      }
    },
    {
      "cell_type": "code",
      "source": [
        "Diccionario1={\"Frutas\":[\"Manzana\",\"pera\",\"Chontaduro\",\"Pitahya\"],\"Color\":\"coito\",\"Verdadero\":True,\"Nombre\":\"Pericoman\"}\n",
        "Diccionario1"
      ],
      "metadata": {
        "colab": {
          "base_uri": "https://localhost:8080/"
        },
        "id": "qLrPvqON2kVu",
        "outputId": "c732a462-835f-4e83-c808-b18182d0524f"
      },
      "execution_count": 21,
      "outputs": [
        {
          "output_type": "execute_result",
          "data": {
            "text/plain": [
              "{'Frutas': ['Manzana', 'pera', 'Chontaduro', 'Pitahya'],\n",
              " 'Color': 'coito',\n",
              " 'Verdadero': True,\n",
              " 'Nombre': 'Pericoman'}"
            ]
          },
          "metadata": {},
          "execution_count": 21
        }
      ]
    },
    {
      "cell_type": "code",
      "source": [
        "#Recuperación de datos\n",
        "Diccionario1[\"Frutas\"][0]=int(8)\n",
        "Diccionario1\n",
        "type(Diccionario1[\"Frutas\"])"
      ],
      "metadata": {
        "colab": {
          "base_uri": "https://localhost:8080/"
        },
        "id": "Q01fCXyw4qdE",
        "outputId": "55eab8b5-3378-499a-f676-8c3287a878eb"
      },
      "execution_count": 24,
      "outputs": [
        {
          "output_type": "execute_result",
          "data": {
            "text/plain": [
              "list"
            ]
          },
          "metadata": {},
          "execution_count": 24
        }
      ]
    },
    {
      "cell_type": "code",
      "source": [
        "#Eliminar datos diccionario\n",
        "del(Diccionario1[\"Frutas\"])\n",
        "Diccionario1"
      ],
      "metadata": {
        "colab": {
          "base_uri": "https://localhost:8080/"
        },
        "id": "t9BBILAn5wcV",
        "outputId": "2fc7c6a4-4b09-4a7c-c71d-e1fd5792401b"
      },
      "execution_count": 18,
      "outputs": [
        {
          "output_type": "execute_result",
          "data": {
            "text/plain": [
              "{'Color': 'coito', 'Verdadero': True, 'Nombre': 'Pericoman'}"
            ]
          },
          "metadata": {},
          "execution_count": 18
        }
      ]
    },
    {
      "cell_type": "code",
      "source": [
        "import pandas as pd\n",
        "totalx=0\n",
        "gananciasdiarias=0\n",
        "turno=\"n\"\n",
        "while turno == \"n\" or turno == \"no\":\n",
        " print(\"\",\"Comidas rápidas <<Los Hermanos>>\",\"               \")\n",
        " Catalogocompras={\"Productos\":[\"Combo 1\",\"Combo 2\",\"Combo 3\",\"Combo 4\",\"Papas \",\"Jugos naturales \",\"Cerveza\",\"Agua\",\"Gaseosas\"],\"\":[\"$\",\"$\",\"$\",\"$\",\"$\",\"$\",\"$\",\"$\",\"$\"],\"Coste\":[20000,25000,18000,24500,3000,7000,3500,4000,2500],\"Cantidad\":[],\"Subtotal\":[],\"total\":[]}\n",
        "\n",
        " for indice in range(len(Catalogocompras[\"Productos\"])):\n",
        "   print(Catalogocompras[\"Productos\"][indice])\n",
        "   elemento = int(input(\"Ingrese cuantas unidades desea comprar del producto determinado: \"))\n",
        "   Catalogocompras[\"Cantidad\"].append(elemento)\n",
        "   subtotalproducto=elemento*Catalogocompras[\"Coste\"][indice]\n",
        "   Catalogocompras[\"Subtotal\"].append(subtotalproducto)\n",
        "   print(subtotalproducto)\n",
        "   totalx+=subtotalproducto\n",
        "   Catalogocompras[\"total\"].append(totalx)\n",
        "  \n",
        "\n",
        " gananciasdiarias+=totalx\n",
        " turno=str(input(\"¿La jornada laboral ha acabado? sí o no\"))\n",
        " turno.lower()\n",
        " if turno != (\"si\" and\"s\" and \"no\" and \"s\"):\n",
        "   turno=str(input(\"Ingresa una respuesta válida\"))\n",
        "   turno.lower()\n",
        " print(Catalogocompras[\"Productos\"],sep=\"\\n\")\n",
        "\n",
        "\n",
        " \n",
        "\n",
        "\n",
        "\n"
      ],
      "metadata": {
        "colab": {
          "base_uri": "https://localhost:8080/"
        },
        "id": "OMrXAq2v8sbD",
        "outputId": "83a1cefe-8023-42ff-b6fa-b151e0d51623"
      },
      "execution_count": 75,
      "outputs": [
        {
          "output_type": "stream",
          "name": "stdout",
          "text": [
            " Comidas rápidas <<Los Hermanos>>                \n",
            "Combo 1\n",
            "Ingrese cuantas unidades desea comprar del producto determinado: 7\n",
            "140000\n",
            "Combo 2\n",
            "Ingrese cuantas unidades desea comprar del producto determinado: 4\n",
            "100000\n",
            "Combo 3\n",
            "Ingrese cuantas unidades desea comprar del producto determinado: 0\n",
            "0\n",
            "Combo 4\n",
            "Ingrese cuantas unidades desea comprar del producto determinado: 0\n",
            "0\n",
            "Papas \n",
            "Ingrese cuantas unidades desea comprar del producto determinado: 0\n",
            "0\n",
            "Jugos naturales \n",
            "Ingrese cuantas unidades desea comprar del producto determinado: 0\n",
            "0\n",
            "Cerveza\n",
            "Ingrese cuantas unidades desea comprar del producto determinado: 0\n",
            "0\n",
            "Agua\n",
            "Ingrese cuantas unidades desea comprar del producto determinado: 0\n",
            "0\n",
            "Gaseosas\n",
            "Ingrese cuantas unidades desea comprar del producto determinado: 0\n",
            "0\n",
            "¿La jornada laboral ha acabado? sí o no0\n",
            "Ingresa una respuesta válidamo\n",
            "['Combo 1', 'Combo 2', 'Combo 3', 'Combo 4', 'Papas ', 'Jugos naturales ', 'Cerveza', 'Agua', 'Gaseosas']\n"
          ]
        }
      ]
    }
  ]
}